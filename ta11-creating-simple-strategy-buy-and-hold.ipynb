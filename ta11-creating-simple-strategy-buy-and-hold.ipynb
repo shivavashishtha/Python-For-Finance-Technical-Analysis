{
 "cells": [
  {
   "cell_type": "markdown",
   "id": "7775400b",
   "metadata": {
    "papermill": {
     "duration": 0.00706,
     "end_time": "2022-08-09T20:49:39.216953",
     "exception": false,
     "start_time": "2022-08-09T20:49:39.209893",
     "status": "completed"
    },
    "tags": []
   },
   "source": [
    "# Important Note!\n",
    "These notebooks are a part of the data resources I used in my training program, 'Python For Finance Nanodegree', wherein I train students in the fundamentals of using Python to analyze and understand financial data.\n",
    "\n",
    "Not to brag😅, but some of my students have in fact gone on to pursue highly rewarding careers in techno-finance after my program.\n",
    "\n",
    "Do feel free to hit me up for any doubts. Would love to help!\n",
    "<br><br>\n",
    "**Visit**: [Python For Finance Nanodegree](https://python.jobaaj.com/)<br>\n",
    "**Email**: contact@jobaaj.com<br>\n",
    "**Contact**: +91 73035 12500<br>"
   ]
  },
  {
   "cell_type": "code",
   "execution_count": 1,
   "id": "7274ad47",
   "metadata": {
    "_cell_guid": "b1076dfc-b9ad-4769-8c92-a6c4dae69d19",
    "_uuid": "8f2839f25d086af736a60e9eeb907d3b93b6e0e5",
    "execution": {
     "iopub.execute_input": "2022-08-09T20:49:39.231130Z",
     "iopub.status.busy": "2022-08-09T20:49:39.230349Z",
     "iopub.status.idle": "2022-08-09T20:49:39.243609Z",
     "shell.execute_reply": "2022-08-09T20:49:39.242511Z"
    },
    "papermill": {
     "duration": 0.023367,
     "end_time": "2022-08-09T20:49:39.246400",
     "exception": false,
     "start_time": "2022-08-09T20:49:39.223033",
     "status": "completed"
    },
    "tags": []
   },
   "outputs": [],
   "source": [
    "# This Python 3 environment comes with many helpful analytics libraries installed\n",
    "# It is defined by the kaggle/python Docker image: https://github.com/kaggle/docker-python\n",
    "# For example, here's several helpful packages to load\n",
    "\n",
    "import numpy as np # linear algebra\n",
    "import pandas as pd # data processing, CSV file I/O (e.g. pd.read_csv)\n",
    "\n",
    "# Input data files are available in the read-only \"../input/\" directory\n",
    "# For example, running this (by clicking run or pressing Shift+Enter) will list all files under the input directory\n",
    "\n",
    "import os\n",
    "for dirname, _, filenames in os.walk('/kaggle/input'):\n",
    "    for filename in filenames:\n",
    "        print(os.path.join(dirname, filename))\n",
    "\n",
    "# You can write up to 20GB to the current directory (/kaggle/working/) that gets preserved as output when you create a version using \"Save & Run All\" \n",
    "# You can also write temporary files to /kaggle/temp/, but they won't be saved outside of the current session"
   ]
  },
  {
   "cell_type": "code",
   "execution_count": 2,
   "id": "023a7c34",
   "metadata": {
    "execution": {
     "iopub.execute_input": "2022-08-09T20:49:39.260671Z",
     "iopub.status.busy": "2022-08-09T20:49:39.259943Z",
     "iopub.status.idle": "2022-08-09T20:49:39.265014Z",
     "shell.execute_reply": "2022-08-09T20:49:39.263863Z"
    },
    "papermill": {
     "duration": 0.015225,
     "end_time": "2022-08-09T20:49:39.267761",
     "exception": false,
     "start_time": "2022-08-09T20:49:39.252536",
     "status": "completed"
    },
    "tags": []
   },
   "outputs": [],
   "source": [
    "import matplotlib.pyplot as plt\n",
    "plt.style.use(\"seaborn\")"
   ]
  },
  {
   "cell_type": "code",
   "execution_count": 3,
   "id": "b4810879",
   "metadata": {
    "execution": {
     "iopub.execute_input": "2022-08-09T20:49:39.282522Z",
     "iopub.status.busy": "2022-08-09T20:49:39.281445Z",
     "iopub.status.idle": "2022-08-09T20:49:55.054521Z",
     "shell.execute_reply": "2022-08-09T20:49:55.053010Z"
    },
    "papermill": {
     "duration": 15.783535,
     "end_time": "2022-08-09T20:49:55.057552",
     "exception": false,
     "start_time": "2022-08-09T20:49:39.274017",
     "status": "completed"
    },
    "tags": []
   },
   "outputs": [
    {
     "name": "stdout",
     "output_type": "stream",
     "text": [
      "Collecting yfinance\r\n",
      "  Downloading yfinance-0.1.74-py2.py3-none-any.whl (27 kB)\r\n",
      "Requirement already satisfied: requests>=2.26 in /opt/conda/lib/python3.7/site-packages (from yfinance) (2.28.1)\r\n",
      "Requirement already satisfied: numpy>=1.15 in /opt/conda/lib/python3.7/site-packages (from yfinance) (1.21.6)\r\n",
      "Collecting multitasking>=0.0.7\r\n",
      "  Downloading multitasking-0.0.11-py3-none-any.whl (8.5 kB)\r\n",
      "Requirement already satisfied: pandas>=0.24.0 in /opt/conda/lib/python3.7/site-packages (from yfinance) (1.3.5)\r\n",
      "Requirement already satisfied: lxml>=4.5.1 in /opt/conda/lib/python3.7/site-packages (from yfinance) (4.9.1)\r\n",
      "Requirement already satisfied: python-dateutil>=2.7.3 in /opt/conda/lib/python3.7/site-packages (from pandas>=0.24.0->yfinance) (2.8.2)\r\n",
      "Requirement already satisfied: pytz>=2017.3 in /opt/conda/lib/python3.7/site-packages (from pandas>=0.24.0->yfinance) (2022.1)\r\n",
      "Requirement already satisfied: urllib3<1.27,>=1.21.1 in /opt/conda/lib/python3.7/site-packages (from requests>=2.26->yfinance) (1.26.9)\r\n",
      "Requirement already satisfied: certifi>=2017.4.17 in /opt/conda/lib/python3.7/site-packages (from requests>=2.26->yfinance) (2022.6.15)\r\n",
      "Requirement already satisfied: idna<4,>=2.5 in /opt/conda/lib/python3.7/site-packages (from requests>=2.26->yfinance) (3.3)\r\n",
      "Requirement already satisfied: charset-normalizer<3,>=2 in /opt/conda/lib/python3.7/site-packages (from requests>=2.26->yfinance) (2.1.0)\r\n",
      "Requirement already satisfied: six>=1.5 in /opt/conda/lib/python3.7/site-packages (from python-dateutil>=2.7.3->pandas>=0.24.0->yfinance) (1.16.0)\r\n",
      "Installing collected packages: multitasking, yfinance\r\n",
      "Successfully installed multitasking-0.0.11 yfinance-0.1.74\r\n",
      "\u001b[33mWARNING: Running pip as the 'root' user can result in broken permissions and conflicting behaviour with the system package manager. It is recommended to use a virtual environment instead: https://pip.pypa.io/warnings/venv\u001b[0m\u001b[33m\r\n",
      "\u001b[0m"
     ]
    }
   ],
   "source": [
    "!pip install yfinance"
   ]
  },
  {
   "cell_type": "code",
   "execution_count": 4,
   "id": "05043616",
   "metadata": {
    "execution": {
     "iopub.execute_input": "2022-08-09T20:49:55.074100Z",
     "iopub.status.busy": "2022-08-09T20:49:55.073671Z",
     "iopub.status.idle": "2022-08-09T20:49:55.100538Z",
     "shell.execute_reply": "2022-08-09T20:49:55.098342Z"
    },
    "papermill": {
     "duration": 0.039675,
     "end_time": "2022-08-09T20:49:55.103981",
     "exception": false,
     "start_time": "2022-08-09T20:49:55.064306",
     "status": "completed"
    },
    "tags": []
   },
   "outputs": [],
   "source": [
    "import yfinance as yf"
   ]
  },
  {
   "cell_type": "code",
   "execution_count": 5,
   "id": "21c25fc2",
   "metadata": {
    "execution": {
     "iopub.execute_input": "2022-08-09T20:49:55.119502Z",
     "iopub.status.busy": "2022-08-09T20:49:55.119114Z",
     "iopub.status.idle": "2022-08-09T20:49:55.888796Z",
     "shell.execute_reply": "2022-08-09T20:49:55.887342Z"
    },
    "papermill": {
     "duration": 0.780223,
     "end_time": "2022-08-09T20:49:55.891365",
     "exception": false,
     "start_time": "2022-08-09T20:49:55.111142",
     "status": "completed"
    },
    "tags": []
   },
   "outputs": [
    {
     "name": "stdout",
     "output_type": "stream",
     "text": [
      "[*********************100%***********************]  1 of 1 completed\n"
     ]
    }
   ],
   "source": [
    "df=yf.download(\"INR=X\")"
   ]
  },
  {
   "cell_type": "code",
   "execution_count": 6,
   "id": "e08fe667",
   "metadata": {
    "execution": {
     "iopub.execute_input": "2022-08-09T20:49:55.907478Z",
     "iopub.status.busy": "2022-08-09T20:49:55.906964Z",
     "iopub.status.idle": "2022-08-09T20:49:55.913321Z",
     "shell.execute_reply": "2022-08-09T20:49:55.911773Z"
    },
    "papermill": {
     "duration": 0.018429,
     "end_time": "2022-08-09T20:49:55.916472",
     "exception": false,
     "start_time": "2022-08-09T20:49:55.898043",
     "status": "completed"
    },
    "tags": []
   },
   "outputs": [],
   "source": [
    "df=df.Close"
   ]
  },
  {
   "cell_type": "code",
   "execution_count": 7,
   "id": "44472a53",
   "metadata": {
    "execution": {
     "iopub.execute_input": "2022-08-09T20:49:55.934190Z",
     "iopub.status.busy": "2022-08-09T20:49:55.932665Z",
     "iopub.status.idle": "2022-08-09T20:49:55.960016Z",
     "shell.execute_reply": "2022-08-09T20:49:55.958505Z"
    },
    "papermill": {
     "duration": 0.039736,
     "end_time": "2022-08-09T20:49:55.962986",
     "exception": false,
     "start_time": "2022-08-09T20:49:55.923250",
     "status": "completed"
    },
    "tags": []
   },
   "outputs": [
    {
     "data": {
      "text/html": [
       "<div>\n",
       "<style scoped>\n",
       "    .dataframe tbody tr th:only-of-type {\n",
       "        vertical-align: middle;\n",
       "    }\n",
       "\n",
       "    .dataframe tbody tr th {\n",
       "        vertical-align: top;\n",
       "    }\n",
       "\n",
       "    .dataframe thead th {\n",
       "        text-align: right;\n",
       "    }\n",
       "</style>\n",
       "<table border=\"1\" class=\"dataframe\">\n",
       "  <thead>\n",
       "    <tr style=\"text-align: right;\">\n",
       "      <th></th>\n",
       "      <th>Close</th>\n",
       "    </tr>\n",
       "    <tr>\n",
       "      <th>Date</th>\n",
       "      <th></th>\n",
       "    </tr>\n",
       "  </thead>\n",
       "  <tbody>\n",
       "    <tr>\n",
       "      <th>2003-12-01</th>\n",
       "      <td>45.709999</td>\n",
       "    </tr>\n",
       "    <tr>\n",
       "      <th>2003-12-02</th>\n",
       "      <td>45.629002</td>\n",
       "    </tr>\n",
       "    <tr>\n",
       "      <th>2003-12-03</th>\n",
       "      <td>45.549999</td>\n",
       "    </tr>\n",
       "    <tr>\n",
       "      <th>2003-12-04</th>\n",
       "      <td>45.548000</td>\n",
       "    </tr>\n",
       "    <tr>\n",
       "      <th>2003-12-05</th>\n",
       "      <td>45.449001</td>\n",
       "    </tr>\n",
       "    <tr>\n",
       "      <th>...</th>\n",
       "      <td>...</td>\n",
       "    </tr>\n",
       "    <tr>\n",
       "      <th>2022-08-03</th>\n",
       "      <td>78.604500</td>\n",
       "    </tr>\n",
       "    <tr>\n",
       "      <th>2022-08-04</th>\n",
       "      <td>79.118301</td>\n",
       "    </tr>\n",
       "    <tr>\n",
       "      <th>2022-08-05</th>\n",
       "      <td>79.154900</td>\n",
       "    </tr>\n",
       "    <tr>\n",
       "      <th>2022-08-08</th>\n",
       "      <td>79.410599</td>\n",
       "    </tr>\n",
       "    <tr>\n",
       "      <th>2022-08-09</th>\n",
       "      <td>79.601898</td>\n",
       "    </tr>\n",
       "  </tbody>\n",
       "</table>\n",
       "<p>4845 rows × 1 columns</p>\n",
       "</div>"
      ],
      "text/plain": [
       "                Close\n",
       "Date                 \n",
       "2003-12-01  45.709999\n",
       "2003-12-02  45.629002\n",
       "2003-12-03  45.549999\n",
       "2003-12-04  45.548000\n",
       "2003-12-05  45.449001\n",
       "...               ...\n",
       "2022-08-03  78.604500\n",
       "2022-08-04  79.118301\n",
       "2022-08-05  79.154900\n",
       "2022-08-08  79.410599\n",
       "2022-08-09  79.601898\n",
       "\n",
       "[4845 rows x 1 columns]"
      ]
     },
     "execution_count": 7,
     "metadata": {},
     "output_type": "execute_result"
    }
   ],
   "source": [
    "df=pd.DataFrame(df)\n",
    "df"
   ]
  },
  {
   "cell_type": "code",
   "execution_count": 8,
   "id": "658e89a7",
   "metadata": {
    "execution": {
     "iopub.execute_input": "2022-08-09T20:49:55.980766Z",
     "iopub.status.busy": "2022-08-09T20:49:55.980291Z",
     "iopub.status.idle": "2022-08-09T20:49:55.996463Z",
     "shell.execute_reply": "2022-08-09T20:49:55.995134Z"
    },
    "papermill": {
     "duration": 0.027945,
     "end_time": "2022-08-09T20:49:55.999879",
     "exception": false,
     "start_time": "2022-08-09T20:49:55.971934",
     "status": "completed"
    },
    "tags": []
   },
   "outputs": [],
   "source": [
    "df[\"returns\"]=np.log(df.div(df.shift(1)))"
   ]
  },
  {
   "cell_type": "code",
   "execution_count": 9,
   "id": "bc0952b4",
   "metadata": {
    "execution": {
     "iopub.execute_input": "2022-08-09T20:49:56.020277Z",
     "iopub.status.busy": "2022-08-09T20:49:56.019325Z",
     "iopub.status.idle": "2022-08-09T20:49:56.037775Z",
     "shell.execute_reply": "2022-08-09T20:49:56.036274Z"
    },
    "papermill": {
     "duration": 0.030696,
     "end_time": "2022-08-09T20:49:56.040659",
     "exception": false,
     "start_time": "2022-08-09T20:49:56.009963",
     "status": "completed"
    },
    "tags": []
   },
   "outputs": [
    {
     "data": {
      "text/html": [
       "<div>\n",
       "<style scoped>\n",
       "    .dataframe tbody tr th:only-of-type {\n",
       "        vertical-align: middle;\n",
       "    }\n",
       "\n",
       "    .dataframe tbody tr th {\n",
       "        vertical-align: top;\n",
       "    }\n",
       "\n",
       "    .dataframe thead th {\n",
       "        text-align: right;\n",
       "    }\n",
       "</style>\n",
       "<table border=\"1\" class=\"dataframe\">\n",
       "  <thead>\n",
       "    <tr style=\"text-align: right;\">\n",
       "      <th></th>\n",
       "      <th>Close</th>\n",
       "      <th>returns</th>\n",
       "    </tr>\n",
       "    <tr>\n",
       "      <th>Date</th>\n",
       "      <th></th>\n",
       "      <th></th>\n",
       "    </tr>\n",
       "  </thead>\n",
       "  <tbody>\n",
       "    <tr>\n",
       "      <th>2003-12-01</th>\n",
       "      <td>45.709999</td>\n",
       "      <td>NaN</td>\n",
       "    </tr>\n",
       "    <tr>\n",
       "      <th>2003-12-02</th>\n",
       "      <td>45.629002</td>\n",
       "      <td>-0.001774</td>\n",
       "    </tr>\n",
       "    <tr>\n",
       "      <th>2003-12-03</th>\n",
       "      <td>45.549999</td>\n",
       "      <td>-0.001733</td>\n",
       "    </tr>\n",
       "    <tr>\n",
       "      <th>2003-12-04</th>\n",
       "      <td>45.548000</td>\n",
       "      <td>-0.000044</td>\n",
       "    </tr>\n",
       "    <tr>\n",
       "      <th>2003-12-05</th>\n",
       "      <td>45.449001</td>\n",
       "      <td>-0.002176</td>\n",
       "    </tr>\n",
       "    <tr>\n",
       "      <th>...</th>\n",
       "      <td>...</td>\n",
       "      <td>...</td>\n",
       "    </tr>\n",
       "    <tr>\n",
       "      <th>2022-08-03</th>\n",
       "      <td>78.604500</td>\n",
       "      <td>-0.004458</td>\n",
       "    </tr>\n",
       "    <tr>\n",
       "      <th>2022-08-04</th>\n",
       "      <td>79.118301</td>\n",
       "      <td>0.006515</td>\n",
       "    </tr>\n",
       "    <tr>\n",
       "      <th>2022-08-05</th>\n",
       "      <td>79.154900</td>\n",
       "      <td>0.000462</td>\n",
       "    </tr>\n",
       "    <tr>\n",
       "      <th>2022-08-08</th>\n",
       "      <td>79.410599</td>\n",
       "      <td>0.003225</td>\n",
       "    </tr>\n",
       "    <tr>\n",
       "      <th>2022-08-09</th>\n",
       "      <td>79.601898</td>\n",
       "      <td>0.002406</td>\n",
       "    </tr>\n",
       "  </tbody>\n",
       "</table>\n",
       "<p>4845 rows × 2 columns</p>\n",
       "</div>"
      ],
      "text/plain": [
       "                Close   returns\n",
       "Date                           \n",
       "2003-12-01  45.709999       NaN\n",
       "2003-12-02  45.629002 -0.001774\n",
       "2003-12-03  45.549999 -0.001733\n",
       "2003-12-04  45.548000 -0.000044\n",
       "2003-12-05  45.449001 -0.002176\n",
       "...               ...       ...\n",
       "2022-08-03  78.604500 -0.004458\n",
       "2022-08-04  79.118301  0.006515\n",
       "2022-08-05  79.154900  0.000462\n",
       "2022-08-08  79.410599  0.003225\n",
       "2022-08-09  79.601898  0.002406\n",
       "\n",
       "[4845 rows x 2 columns]"
      ]
     },
     "execution_count": 9,
     "metadata": {},
     "output_type": "execute_result"
    }
   ],
   "source": [
    "df"
   ]
  },
  {
   "cell_type": "code",
   "execution_count": 10,
   "id": "b7cae66d",
   "metadata": {
    "execution": {
     "iopub.execute_input": "2022-08-09T20:49:56.059499Z",
     "iopub.status.busy": "2022-08-09T20:49:56.059043Z",
     "iopub.status.idle": "2022-08-09T20:49:56.071971Z",
     "shell.execute_reply": "2022-08-09T20:49:56.069865Z"
    },
    "papermill": {
     "duration": 0.025179,
     "end_time": "2022-08-09T20:49:56.075019",
     "exception": false,
     "start_time": "2022-08-09T20:49:56.049840",
     "status": "completed"
    },
    "tags": []
   },
   "outputs": [],
   "source": [
    "df.dropna(inplace=True)"
   ]
  },
  {
   "cell_type": "code",
   "execution_count": 11,
   "id": "e2f20bad",
   "metadata": {
    "execution": {
     "iopub.execute_input": "2022-08-09T20:49:56.094787Z",
     "iopub.status.busy": "2022-08-09T20:49:56.094332Z",
     "iopub.status.idle": "2022-08-09T20:49:56.108306Z",
     "shell.execute_reply": "2022-08-09T20:49:56.107258Z"
    },
    "papermill": {
     "duration": 0.031754,
     "end_time": "2022-08-09T20:49:56.114540",
     "exception": false,
     "start_time": "2022-08-09T20:49:56.082786",
     "status": "completed"
    },
    "tags": []
   },
   "outputs": [
    {
     "data": {
      "text/html": [
       "<div>\n",
       "<style scoped>\n",
       "    .dataframe tbody tr th:only-of-type {\n",
       "        vertical-align: middle;\n",
       "    }\n",
       "\n",
       "    .dataframe tbody tr th {\n",
       "        vertical-align: top;\n",
       "    }\n",
       "\n",
       "    .dataframe thead th {\n",
       "        text-align: right;\n",
       "    }\n",
       "</style>\n",
       "<table border=\"1\" class=\"dataframe\">\n",
       "  <thead>\n",
       "    <tr style=\"text-align: right;\">\n",
       "      <th></th>\n",
       "      <th>Close</th>\n",
       "      <th>returns</th>\n",
       "    </tr>\n",
       "    <tr>\n",
       "      <th>Date</th>\n",
       "      <th></th>\n",
       "      <th></th>\n",
       "    </tr>\n",
       "  </thead>\n",
       "  <tbody>\n",
       "    <tr>\n",
       "      <th>2003-12-02</th>\n",
       "      <td>45.629002</td>\n",
       "      <td>-0.001774</td>\n",
       "    </tr>\n",
       "    <tr>\n",
       "      <th>2003-12-03</th>\n",
       "      <td>45.549999</td>\n",
       "      <td>-0.001733</td>\n",
       "    </tr>\n",
       "    <tr>\n",
       "      <th>2003-12-04</th>\n",
       "      <td>45.548000</td>\n",
       "      <td>-0.000044</td>\n",
       "    </tr>\n",
       "    <tr>\n",
       "      <th>2003-12-05</th>\n",
       "      <td>45.449001</td>\n",
       "      <td>-0.002176</td>\n",
       "    </tr>\n",
       "    <tr>\n",
       "      <th>2003-12-08</th>\n",
       "      <td>45.470001</td>\n",
       "      <td>0.000462</td>\n",
       "    </tr>\n",
       "    <tr>\n",
       "      <th>...</th>\n",
       "      <td>...</td>\n",
       "      <td>...</td>\n",
       "    </tr>\n",
       "    <tr>\n",
       "      <th>2022-08-03</th>\n",
       "      <td>78.604500</td>\n",
       "      <td>-0.004458</td>\n",
       "    </tr>\n",
       "    <tr>\n",
       "      <th>2022-08-04</th>\n",
       "      <td>79.118301</td>\n",
       "      <td>0.006515</td>\n",
       "    </tr>\n",
       "    <tr>\n",
       "      <th>2022-08-05</th>\n",
       "      <td>79.154900</td>\n",
       "      <td>0.000462</td>\n",
       "    </tr>\n",
       "    <tr>\n",
       "      <th>2022-08-08</th>\n",
       "      <td>79.410599</td>\n",
       "      <td>0.003225</td>\n",
       "    </tr>\n",
       "    <tr>\n",
       "      <th>2022-08-09</th>\n",
       "      <td>79.601898</td>\n",
       "      <td>0.002406</td>\n",
       "    </tr>\n",
       "  </tbody>\n",
       "</table>\n",
       "<p>4844 rows × 2 columns</p>\n",
       "</div>"
      ],
      "text/plain": [
       "                Close   returns\n",
       "Date                           \n",
       "2003-12-02  45.629002 -0.001774\n",
       "2003-12-03  45.549999 -0.001733\n",
       "2003-12-04  45.548000 -0.000044\n",
       "2003-12-05  45.449001 -0.002176\n",
       "2003-12-08  45.470001  0.000462\n",
       "...               ...       ...\n",
       "2022-08-03  78.604500 -0.004458\n",
       "2022-08-04  79.118301  0.006515\n",
       "2022-08-05  79.154900  0.000462\n",
       "2022-08-08  79.410599  0.003225\n",
       "2022-08-09  79.601898  0.002406\n",
       "\n",
       "[4844 rows x 2 columns]"
      ]
     },
     "execution_count": 11,
     "metadata": {},
     "output_type": "execute_result"
    }
   ],
   "source": [
    "df"
   ]
  },
  {
   "cell_type": "code",
   "execution_count": 12,
   "id": "f04eb022",
   "metadata": {
    "execution": {
     "iopub.execute_input": "2022-08-09T20:49:56.134546Z",
     "iopub.status.busy": "2022-08-09T20:49:56.133903Z",
     "iopub.status.idle": "2022-08-09T20:49:56.644996Z",
     "shell.execute_reply": "2022-08-09T20:49:56.643794Z"
    },
    "papermill": {
     "duration": 0.525547,
     "end_time": "2022-08-09T20:49:56.647802",
     "exception": false,
     "start_time": "2022-08-09T20:49:56.122255",
     "status": "completed"
    },
    "tags": []
   },
   "outputs": [
    {
     "data": {
      "image/png": "[encoded data removed]",
      "text/plain": [
       "<Figure size 1080x504 with 1 Axes>"
      ]
     },
     "metadata": {},
     "output_type": "display_data"
    }
   ],
   "source": [
    "df.returns.hist(bins=100,figsize=(15,7))\n",
    "plt.title(\"USD/INR\")\n",
    "plt.show()"
   ]
  },
  {
   "cell_type": "code",
   "execution_count": 13,
   "id": "136a8868",
   "metadata": {
    "execution": {
     "iopub.execute_input": "2022-08-09T20:49:56.666388Z",
     "iopub.status.busy": "2022-08-09T20:49:56.665734Z",
     "iopub.status.idle": "2022-08-09T20:49:56.672761Z",
     "shell.execute_reply": "2022-08-09T20:49:56.671337Z"
    },
    "papermill": {
     "duration": 0.019704,
     "end_time": "2022-08-09T20:49:56.675286",
     "exception": false,
     "start_time": "2022-08-09T20:49:56.655582",
     "status": "completed"
    },
    "tags": []
   },
   "outputs": [
    {
     "data": {
      "text/plain": [
       "0.5547208669016362"
      ]
     },
     "execution_count": 13,
     "metadata": {},
     "output_type": "execute_result"
    }
   ],
   "source": [
    "df.returns.sum()"
   ]
  },
  {
   "cell_type": "markdown",
   "id": "6af13486",
   "metadata": {
    "papermill": {
     "duration": 0.008296,
     "end_time": "2022-08-09T20:49:56.691750",
     "exception": false,
     "start_time": "2022-08-09T20:49:56.683454",
     "status": "completed"
    },
    "tags": []
   },
   "source": [
    "### Conclusion\n",
    "If we would have invested in USD on 2003-12-01, We would have got **55.42%** return by 2022-08-09"
   ]
  },
  {
   "cell_type": "markdown",
   "id": "ce4afc12",
   "metadata": {
    "papermill": {
     "duration": 0.008713,
     "end_time": "2022-08-09T20:49:56.708184",
     "exception": false,
     "start_time": "2022-08-09T20:49:56.699471",
     "status": "completed"
    },
    "tags": []
   },
   "source": [
    "### Note \n",
    "To get more clarity let's checkwith a diffreent method let's divide the value present at the last index by the value present at the 0 index"
   ]
  },
  {
   "cell_type": "code",
   "execution_count": 14,
   "id": "91a3dbe3",
   "metadata": {
    "execution": {
     "iopub.execute_input": "2022-08-09T20:49:56.727735Z",
     "iopub.status.busy": "2022-08-09T20:49:56.727072Z",
     "iopub.status.idle": "2022-08-09T20:49:56.735004Z",
     "shell.execute_reply": "2022-08-09T20:49:56.733981Z"
    },
    "papermill": {
     "duration": 0.019983,
     "end_time": "2022-08-09T20:49:56.737542",
     "exception": false,
     "start_time": "2022-08-09T20:49:56.717559",
     "status": "completed"
    },
    "tags": []
   },
   "outputs": [
    {
     "data": {
      "text/plain": [
       "1.7414548192454304"
      ]
     },
     "execution_count": 14,
     "metadata": {},
     "output_type": "execute_result"
    }
   ],
   "source": [
    "np.exp(df.returns.sum())"
   ]
  },
  {
   "cell_type": "code",
   "execution_count": 15,
   "id": "a4d0bc2b",
   "metadata": {
    "execution": {
     "iopub.execute_input": "2022-08-09T20:49:56.758980Z",
     "iopub.status.busy": "2022-08-09T20:49:56.758455Z",
     "iopub.status.idle": "2022-08-09T20:49:56.768154Z",
     "shell.execute_reply": "2022-08-09T20:49:56.766683Z"
    },
    "papermill": {
     "duration": 0.023303,
     "end_time": "2022-08-09T20:49:56.771491",
     "exception": false,
     "start_time": "2022-08-09T20:49:56.748188",
     "status": "completed"
    },
    "tags": []
   },
   "outputs": [
    {
     "data": {
      "text/plain": [
       "1.7445461301294192"
      ]
     },
     "execution_count": 15,
     "metadata": {},
     "output_type": "execute_result"
    }
   ],
   "source": [
    "df.Close[-1]/df.Close[0]"
   ]
  },
  {
   "cell_type": "code",
   "execution_count": 16,
   "id": "16b641f8",
   "metadata": {
    "execution": {
     "iopub.execute_input": "2022-08-09T20:49:56.792981Z",
     "iopub.status.busy": "2022-08-09T20:49:56.791544Z",
     "iopub.status.idle": "2022-08-09T20:49:56.802985Z",
     "shell.execute_reply": "2022-08-09T20:49:56.801228Z"
    },
    "papermill": {
     "duration": 0.025439,
     "end_time": "2022-08-09T20:49:56.805768",
     "exception": false,
     "start_time": "2022-08-09T20:49:56.780329",
     "status": "completed"
    },
    "tags": []
   },
   "outputs": [
    {
     "data": {
      "text/plain": [
       "Date\n",
       "2003-12-02   -0.001774\n",
       "2003-12-03   -0.003506\n",
       "2003-12-04   -0.003550\n",
       "2003-12-05   -0.005726\n",
       "2003-12-08   -0.005264\n",
       "                ...   \n",
       "2022-08-03    0.542112\n",
       "2022-08-04    0.548627\n",
       "2022-08-05    0.549090\n",
       "2022-08-08    0.552315\n",
       "2022-08-09    0.554721\n",
       "Name: returns, Length: 4844, dtype: float64"
      ]
     },
     "execution_count": 16,
     "metadata": {},
     "output_type": "execute_result"
    }
   ],
   "source": [
    "#cumulative returns \n",
    "df.returns.cumsum()"
   ]
  },
  {
   "cell_type": "code",
   "execution_count": 17,
   "id": "16d053c1",
   "metadata": {
    "execution": {
     "iopub.execute_input": "2022-08-09T20:49:56.827498Z",
     "iopub.status.busy": "2022-08-09T20:49:56.826831Z",
     "iopub.status.idle": "2022-08-09T20:49:56.839377Z",
     "shell.execute_reply": "2022-08-09T20:49:56.838232Z"
    },
    "papermill": {
     "duration": 0.026446,
     "end_time": "2022-08-09T20:49:56.842495",
     "exception": false,
     "start_time": "2022-08-09T20:49:56.816049",
     "status": "completed"
    },
    "tags": []
   },
   "outputs": [
    {
     "data": {
      "text/plain": [
       "Date\n",
       "2003-12-02    0.998228\n",
       "2003-12-03    0.996500\n",
       "2003-12-04    0.996456\n",
       "2003-12-05    0.994290\n",
       "2003-12-08    0.994750\n",
       "                ...   \n",
       "2022-08-03    1.719635\n",
       "2022-08-04    1.730875\n",
       "2022-08-05    1.731676\n",
       "2022-08-08    1.737270\n",
       "2022-08-09    1.741455\n",
       "Name: returns, Length: 4844, dtype: float64"
      ]
     },
     "execution_count": 17,
     "metadata": {},
     "output_type": "execute_result"
    }
   ],
   "source": [
    "df.returns.cumsum().apply(np.exp)"
   ]
  },
  {
   "cell_type": "code",
   "execution_count": 18,
   "id": "26b94fd2",
   "metadata": {
    "execution": {
     "iopub.execute_input": "2022-08-09T20:49:56.862398Z",
     "iopub.status.busy": "2022-08-09T20:49:56.861436Z",
     "iopub.status.idle": "2022-08-09T20:49:56.872268Z",
     "shell.execute_reply": "2022-08-09T20:49:56.870747Z"
    },
    "papermill": {
     "duration": 0.023322,
     "end_time": "2022-08-09T20:49:56.875176",
     "exception": false,
     "start_time": "2022-08-09T20:49:56.851854",
     "status": "completed"
    },
    "tags": []
   },
   "outputs": [],
   "source": [
    "df[\"creturns\"]=df.returns.cumsum().apply(np.exp)"
   ]
  },
  {
   "cell_type": "code",
   "execution_count": 19,
   "id": "a7672e00",
   "metadata": {
    "execution": {
     "iopub.execute_input": "2022-08-09T20:49:56.897443Z",
     "iopub.status.busy": "2022-08-09T20:49:56.896667Z",
     "iopub.status.idle": "2022-08-09T20:49:56.915125Z",
     "shell.execute_reply": "2022-08-09T20:49:56.913903Z"
    },
    "papermill": {
     "duration": 0.034691,
     "end_time": "2022-08-09T20:49:56.918153",
     "exception": false,
     "start_time": "2022-08-09T20:49:56.883462",
     "status": "completed"
    },
    "tags": []
   },
   "outputs": [
    {
     "data": {
      "text/html": [
       "<div>\n",
       "<style scoped>\n",
       "    .dataframe tbody tr th:only-of-type {\n",
       "        vertical-align: middle;\n",
       "    }\n",
       "\n",
       "    .dataframe tbody tr th {\n",
       "        vertical-align: top;\n",
       "    }\n",
       "\n",
       "    .dataframe thead th {\n",
       "        text-align: right;\n",
       "    }\n",
       "</style>\n",
       "<table border=\"1\" class=\"dataframe\">\n",
       "  <thead>\n",
       "    <tr style=\"text-align: right;\">\n",
       "      <th></th>\n",
       "      <th>Close</th>\n",
       "      <th>returns</th>\n",
       "      <th>creturns</th>\n",
       "    </tr>\n",
       "    <tr>\n",
       "      <th>Date</th>\n",
       "      <th></th>\n",
       "      <th></th>\n",
       "      <th></th>\n",
       "    </tr>\n",
       "  </thead>\n",
       "  <tbody>\n",
       "    <tr>\n",
       "      <th>2003-12-02</th>\n",
       "      <td>45.629002</td>\n",
       "      <td>-0.001774</td>\n",
       "      <td>0.998228</td>\n",
       "    </tr>\n",
       "    <tr>\n",
       "      <th>2003-12-03</th>\n",
       "      <td>45.549999</td>\n",
       "      <td>-0.001733</td>\n",
       "      <td>0.996500</td>\n",
       "    </tr>\n",
       "    <tr>\n",
       "      <th>2003-12-04</th>\n",
       "      <td>45.548000</td>\n",
       "      <td>-0.000044</td>\n",
       "      <td>0.996456</td>\n",
       "    </tr>\n",
       "    <tr>\n",
       "      <th>2003-12-05</th>\n",
       "      <td>45.449001</td>\n",
       "      <td>-0.002176</td>\n",
       "      <td>0.994290</td>\n",
       "    </tr>\n",
       "    <tr>\n",
       "      <th>2003-12-08</th>\n",
       "      <td>45.470001</td>\n",
       "      <td>0.000462</td>\n",
       "      <td>0.994750</td>\n",
       "    </tr>\n",
       "    <tr>\n",
       "      <th>...</th>\n",
       "      <td>...</td>\n",
       "      <td>...</td>\n",
       "      <td>...</td>\n",
       "    </tr>\n",
       "    <tr>\n",
       "      <th>2022-08-03</th>\n",
       "      <td>78.604500</td>\n",
       "      <td>-0.004458</td>\n",
       "      <td>1.719635</td>\n",
       "    </tr>\n",
       "    <tr>\n",
       "      <th>2022-08-04</th>\n",
       "      <td>79.118301</td>\n",
       "      <td>0.006515</td>\n",
       "      <td>1.730875</td>\n",
       "    </tr>\n",
       "    <tr>\n",
       "      <th>2022-08-05</th>\n",
       "      <td>79.154900</td>\n",
       "      <td>0.000462</td>\n",
       "      <td>1.731676</td>\n",
       "    </tr>\n",
       "    <tr>\n",
       "      <th>2022-08-08</th>\n",
       "      <td>79.410599</td>\n",
       "      <td>0.003225</td>\n",
       "      <td>1.737270</td>\n",
       "    </tr>\n",
       "    <tr>\n",
       "      <th>2022-08-09</th>\n",
       "      <td>79.601898</td>\n",
       "      <td>0.002406</td>\n",
       "      <td>1.741455</td>\n",
       "    </tr>\n",
       "  </tbody>\n",
       "</table>\n",
       "<p>4844 rows × 3 columns</p>\n",
       "</div>"
      ],
      "text/plain": [
       "                Close   returns  creturns\n",
       "Date                                     \n",
       "2003-12-02  45.629002 -0.001774  0.998228\n",
       "2003-12-03  45.549999 -0.001733  0.996500\n",
       "2003-12-04  45.548000 -0.000044  0.996456\n",
       "2003-12-05  45.449001 -0.002176  0.994290\n",
       "2003-12-08  45.470001  0.000462  0.994750\n",
       "...               ...       ...       ...\n",
       "2022-08-03  78.604500 -0.004458  1.719635\n",
       "2022-08-04  79.118301  0.006515  1.730875\n",
       "2022-08-05  79.154900  0.000462  1.731676\n",
       "2022-08-08  79.410599  0.003225  1.737270\n",
       "2022-08-09  79.601898  0.002406  1.741455\n",
       "\n",
       "[4844 rows x 3 columns]"
      ]
     },
     "execution_count": 19,
     "metadata": {},
     "output_type": "execute_result"
    }
   ],
   "source": [
    "df"
   ]
  },
  {
   "cell_type": "code",
   "execution_count": 20,
   "id": "d6d245d5",
   "metadata": {
    "execution": {
     "iopub.execute_input": "2022-08-09T20:49:56.939147Z",
     "iopub.status.busy": "2022-08-09T20:49:56.938406Z",
     "iopub.status.idle": "2022-08-09T20:49:57.430351Z",
     "shell.execute_reply": "2022-08-09T20:49:57.428844Z"
    },
    "papermill": {
     "duration": 0.505696,
     "end_time": "2022-08-09T20:49:57.433735",
     "exception": false,
     "start_time": "2022-08-09T20:49:56.928039",
     "status": "completed"
    },
    "tags": []
   },
   "outputs": [
    {
     "data": {
      "image/png": "[encoded data removed]",
      "text/plain": [
       "<Figure size 1080x504 with 1 Axes>"
      ]
     },
     "metadata": {},
     "output_type": "display_data"
    }
   ],
   "source": [
    "df.creturns.plot(figsize=(15,7))\n",
    "plt.show()"
   ]
  }
 ],
 "metadata": {
  "kernelspec": {
   "display_name": "Python 3",
   "language": "python",
   "name": "python3"
  },
  "language_info": {
   "codemirror_mode": {
    "name": "ipython",
    "version": 3
   },
   "file_extension": ".py",
   "mimetype": "text/x-python",
   "name": "python",
   "nbconvert_exporter": "python",
   "pygments_lexer": "ipython3",
   "version": "3.7.12"
  },
  "papermill": {
   "default_parameters": {},
   "duration": 30.581401,
   "end_time": "2022-08-09T20:49:58.270766",
   "environment_variables": {},
   "exception": null,
   "input_path": "__notebook__.ipynb",
   "output_path": "__notebook__.ipynb",
   "parameters": {},
   "start_time": "2022-08-09T20:49:27.689365",
   "version": "2.3.4"
  }
 },
 "nbformat": 4,
 "nbformat_minor": 5
}
