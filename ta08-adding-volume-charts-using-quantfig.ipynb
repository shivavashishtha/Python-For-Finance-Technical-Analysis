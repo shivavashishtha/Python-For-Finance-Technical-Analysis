{
 "cells": [
  {
   "cell_type": "markdown",
   "id": "e45fd888",
   "metadata": {
    "papermill": {
     "duration": 0.004099,
     "end_time": "2022-07-14T05:31:03.356928",
     "exception": false,
     "start_time": "2022-07-14T05:31:03.352829",
     "status": "completed"
    },
    "tags": []
   },
   "source": [
    "# Important Note!\n",
    "These notebooks are a part of the data resources I used in my training program, 'Python For Finance Nanodegree', wherein I train students in the fundamentals of using Python to analyze and understand financial data.\n",
    "\n",
    "Not to brag😅, but some of my students have in fact gone on to pursue highly rewarding careers in techno-finance after my program.\n",
    "\n",
    "Do feel free to hit me up for any doubts. Would love to help!\n",
    "<br><br>\n",
    "**Visit**: [Python For Finance Nanodegree](https://python.jobaaj.com/)<br>\n",
    "**Email**: contact@jobaaj.com<br>\n",
    "**Contact**: +91 73035 12500<br>"
   ]
  },
  {
   "cell_type": "code",
   "execution_count": 1,
   "id": "c86002bd",
   "metadata": {
    "_cell_guid": "b1076dfc-b9ad-4769-8c92-a6c4dae69d19",
    "_uuid": "8f2839f25d086af736a60e9eeb907d3b93b6e0e5",
    "execution": {
     "iopub.execute_input": "2022-07-14T05:31:03.365323Z",
     "iopub.status.busy": "2022-07-14T05:31:03.364897Z",
     "iopub.status.idle": "2022-07-14T05:31:07.086586Z",
     "shell.execute_reply": "2022-07-14T05:31:07.085539Z"
    },
    "papermill": {
     "duration": 3.729074,
     "end_time": "2022-07-14T05:31:07.089294",
     "exception": false,
     "start_time": "2022-07-14T05:31:03.360220",
     "status": "completed"
    },
    "tags": []
   },
   "outputs": [
    {
     "name": "stderr",
     "output_type": "stream",
     "text": [
      "/opt/conda/lib/python3.7/site-packages/geopandas/_compat.py:115: UserWarning:\n",
      "\n",
      "The Shapely GEOS version (3.9.1-CAPI-1.14.2) is incompatible with the GEOS version PyGEOS was compiled with (3.10.1-CAPI-1.16.0). Conversions between both will be slow.\n",
      "\n"
     ]
    },
    {
     "data": {
      "text/html": [
       "        <script type=\"text/javascript\">\n",
       "        window.PlotlyConfig = {MathJaxConfig: 'local'};\n",
       "        if (window.MathJax && window.MathJax.Hub && window.MathJax.Hub.Config) {window.MathJax.Hub.Config({SVG: {font: \"STIX-Web\"}});}\n",
       "        if (typeof require !== 'undefined') {\n",
       "        require.undef(\"plotly\");\n",
       "        requirejs.config({\n",
       "            paths: {\n",
       "                'plotly': ['https://cdn.plot.ly/plotly-2.12.1.min']\n",
       "            }\n",
       "        });\n",
       "        require(['plotly'], function(Plotly) {\n",
       "            window._Plotly = Plotly;\n",
       "        });\n",
       "        }\n",
       "        </script>\n",
       "        "
      ]
     },
     "metadata": {},
     "output_type": "display_data"
    }
   ],
   "source": [
    "# This Python 3 environment comes with many helpful analytics libraries installed\n",
    "# It is defined by the kaggle/python Docker image: https://github.com/kaggle/docker-python\n",
    "# For example, here's several helpful packages to load\n",
    "\n",
    "import pandas as pd \n",
    "import numpy as np \n",
    "import matplotlib.pyplot as plt\n",
    "import cufflinks as cf\n",
    "from pandas_datareader import data\n",
    "cf.set_config_file(offline=True)\n",
    "\n",
    "# Input data files are available in the read-only \"../input/\" directory\n",
    "# For example, running this (by clicking run or pressing Shift+Enter) will list all files under the input directory\n",
    "\n",
    "import os\n",
    "for dirname, _, filenames in os.walk('/kaggle/input'):\n",
    "    for filename in filenames:\n",
    "        print(os.path.join(dirname, filename))\n",
    "\n",
    "# You can write up to 20GB to the current directory (/kaggle/working/) that gets preserved as output when you create a version using \"Save & Run All\" \n",
    "# You can also write temporary files to /kaggle/temp/, but they won't be saved outside of the current session"
   ]
  },
  {
   "cell_type": "code",
   "execution_count": 2,
   "id": "95200830",
   "metadata": {
    "execution": {
     "iopub.execute_input": "2022-07-14T05:31:07.097663Z",
     "iopub.status.busy": "2022-07-14T05:31:07.097266Z",
     "iopub.status.idle": "2022-07-14T05:31:07.102238Z",
     "shell.execute_reply": "2022-07-14T05:31:07.101187Z"
    },
    "papermill": {
     "duration": 0.011927,
     "end_time": "2022-07-14T05:31:07.104680",
     "exception": false,
     "start_time": "2022-07-14T05:31:07.092753",
     "status": "completed"
    },
    "tags": []
   },
   "outputs": [],
   "source": [
    "start=\"2005-01-01\"\n",
    "end=\"2022-01-01\""
   ]
  },
  {
   "cell_type": "code",
   "execution_count": 3,
   "id": "5b98755f",
   "metadata": {
    "execution": {
     "iopub.execute_input": "2022-07-14T05:31:07.112851Z",
     "iopub.status.busy": "2022-07-14T05:31:07.112460Z",
     "iopub.status.idle": "2022-07-14T05:31:08.454397Z",
     "shell.execute_reply": "2022-07-14T05:31:08.453052Z"
    },
    "papermill": {
     "duration": 1.34936,
     "end_time": "2022-07-14T05:31:08.457386",
     "exception": false,
     "start_time": "2022-07-14T05:31:07.108026",
     "status": "completed"
    },
    "tags": []
   },
   "outputs": [],
   "source": [
    "df=data.DataReader(name=\"TTM\",data_source=\"yahoo\",start=start,end=end)\n"
   ]
  },
  {
   "cell_type": "code",
   "execution_count": 4,
   "id": "c8c65c05",
   "metadata": {
    "execution": {
     "iopub.execute_input": "2022-07-14T05:31:08.468807Z",
     "iopub.status.busy": "2022-07-14T05:31:08.468293Z",
     "iopub.status.idle": "2022-07-14T05:31:08.494768Z",
     "shell.execute_reply": "2022-07-14T05:31:08.493442Z"
    },
    "papermill": {
     "duration": 0.036094,
     "end_time": "2022-07-14T05:31:08.497345",
     "exception": false,
     "start_time": "2022-07-14T05:31:08.461251",
     "status": "completed"
    },
    "tags": []
   },
   "outputs": [
    {
     "data": {
      "text/html": [
       "<div>\n",
       "<style scoped>\n",
       "    .dataframe tbody tr th:only-of-type {\n",
       "        vertical-align: middle;\n",
       "    }\n",
       "\n",
       "    .dataframe tbody tr th {\n",
       "        vertical-align: top;\n",
       "    }\n",
       "\n",
       "    .dataframe thead th {\n",
       "        text-align: right;\n",
       "    }\n",
       "</style>\n",
       "<table border=\"1\" class=\"dataframe\">\n",
       "  <thead>\n",
       "    <tr style=\"text-align: right;\">\n",
       "      <th></th>\n",
       "      <th>High</th>\n",
       "      <th>Low</th>\n",
       "      <th>Open</th>\n",
       "      <th>Close</th>\n",
       "      <th>Volume</th>\n",
       "      <th>Adj Close</th>\n",
       "    </tr>\n",
       "    <tr>\n",
       "      <th>Date</th>\n",
       "      <th></th>\n",
       "      <th></th>\n",
       "      <th></th>\n",
       "      <th></th>\n",
       "      <th></th>\n",
       "      <th></th>\n",
       "    </tr>\n",
       "  </thead>\n",
       "  <tbody>\n",
       "    <tr>\n",
       "      <th>2005-01-03</th>\n",
       "      <td>12.250000</td>\n",
       "      <td>12.000000</td>\n",
       "      <td>12.220000</td>\n",
       "      <td>12.060000</td>\n",
       "      <td>314900.0</td>\n",
       "      <td>10.217473</td>\n",
       "    </tr>\n",
       "    <tr>\n",
       "      <th>2005-01-04</th>\n",
       "      <td>12.050000</td>\n",
       "      <td>11.760000</td>\n",
       "      <td>12.000000</td>\n",
       "      <td>11.780000</td>\n",
       "      <td>273400.0</td>\n",
       "      <td>9.980250</td>\n",
       "    </tr>\n",
       "    <tr>\n",
       "      <th>2005-01-05</th>\n",
       "      <td>11.580000</td>\n",
       "      <td>11.270000</td>\n",
       "      <td>11.580000</td>\n",
       "      <td>11.340000</td>\n",
       "      <td>362600.0</td>\n",
       "      <td>9.607476</td>\n",
       "    </tr>\n",
       "    <tr>\n",
       "      <th>2005-01-06</th>\n",
       "      <td>11.290000</td>\n",
       "      <td>11.040000</td>\n",
       "      <td>11.290000</td>\n",
       "      <td>11.100000</td>\n",
       "      <td>243900.0</td>\n",
       "      <td>9.404142</td>\n",
       "    </tr>\n",
       "    <tr>\n",
       "      <th>2005-01-07</th>\n",
       "      <td>11.330000</td>\n",
       "      <td>11.160000</td>\n",
       "      <td>11.250000</td>\n",
       "      <td>11.300000</td>\n",
       "      <td>65300.0</td>\n",
       "      <td>9.573586</td>\n",
       "    </tr>\n",
       "    <tr>\n",
       "      <th>...</th>\n",
       "      <td>...</td>\n",
       "      <td>...</td>\n",
       "      <td>...</td>\n",
       "      <td>...</td>\n",
       "      <td>...</td>\n",
       "      <td>...</td>\n",
       "    </tr>\n",
       "    <tr>\n",
       "      <th>2021-12-27</th>\n",
       "      <td>31.790001</td>\n",
       "      <td>31.160000</td>\n",
       "      <td>31.190001</td>\n",
       "      <td>31.780001</td>\n",
       "      <td>678100.0</td>\n",
       "      <td>31.780001</td>\n",
       "    </tr>\n",
       "    <tr>\n",
       "      <th>2021-12-28</th>\n",
       "      <td>32.080002</td>\n",
       "      <td>31.600000</td>\n",
       "      <td>32.080002</td>\n",
       "      <td>31.719999</td>\n",
       "      <td>2110400.0</td>\n",
       "      <td>31.719999</td>\n",
       "    </tr>\n",
       "    <tr>\n",
       "      <th>2021-12-29</th>\n",
       "      <td>31.660000</td>\n",
       "      <td>31.450001</td>\n",
       "      <td>31.600000</td>\n",
       "      <td>31.549999</td>\n",
       "      <td>346900.0</td>\n",
       "      <td>31.549999</td>\n",
       "    </tr>\n",
       "    <tr>\n",
       "      <th>2021-12-30</th>\n",
       "      <td>31.660000</td>\n",
       "      <td>31.309999</td>\n",
       "      <td>31.530001</td>\n",
       "      <td>31.330000</td>\n",
       "      <td>481700.0</td>\n",
       "      <td>31.330000</td>\n",
       "    </tr>\n",
       "    <tr>\n",
       "      <th>2021-12-31</th>\n",
       "      <td>32.369999</td>\n",
       "      <td>32.049999</td>\n",
       "      <td>32.180000</td>\n",
       "      <td>32.090000</td>\n",
       "      <td>508400.0</td>\n",
       "      <td>32.090000</td>\n",
       "    </tr>\n",
       "  </tbody>\n",
       "</table>\n",
       "<p>4280 rows × 6 columns</p>\n",
       "</div>"
      ],
      "text/plain": [
       "                 High        Low       Open      Close     Volume  Adj Close\n",
       "Date                                                                        \n",
       "2005-01-03  12.250000  12.000000  12.220000  12.060000   314900.0  10.217473\n",
       "2005-01-04  12.050000  11.760000  12.000000  11.780000   273400.0   9.980250\n",
       "2005-01-05  11.580000  11.270000  11.580000  11.340000   362600.0   9.607476\n",
       "2005-01-06  11.290000  11.040000  11.290000  11.100000   243900.0   9.404142\n",
       "2005-01-07  11.330000  11.160000  11.250000  11.300000    65300.0   9.573586\n",
       "...               ...        ...        ...        ...        ...        ...\n",
       "2021-12-27  31.790001  31.160000  31.190001  31.780001   678100.0  31.780001\n",
       "2021-12-28  32.080002  31.600000  32.080002  31.719999  2110400.0  31.719999\n",
       "2021-12-29  31.660000  31.450001  31.600000  31.549999   346900.0  31.549999\n",
       "2021-12-30  31.660000  31.309999  31.530001  31.330000   481700.0  31.330000\n",
       "2021-12-31  32.369999  32.049999  32.180000  32.090000   508400.0  32.090000\n",
       "\n",
       "[4280 rows x 6 columns]"
      ]
     },
     "execution_count": 4,
     "metadata": {},
     "output_type": "execute_result"
    }
   ],
   "source": [
    "df"
   ]
  },
  {
   "cell_type": "code",
   "execution_count": 5,
   "id": "28d6f452",
   "metadata": {
    "execution": {
     "iopub.execute_input": "2022-07-14T05:31:08.507084Z",
     "iopub.status.busy": "2022-07-14T05:31:08.506734Z",
     "iopub.status.idle": "2022-07-14T05:31:08.521799Z",
     "shell.execute_reply": "2022-07-14T05:31:08.520567Z"
    },
    "papermill": {
     "duration": 0.022962,
     "end_time": "2022-07-14T05:31:08.524440",
     "exception": false,
     "start_time": "2022-07-14T05:31:08.501478",
     "status": "completed"
    },
    "tags": []
   },
   "outputs": [],
   "source": [
    "qf=cf.QuantFig(df.loc[\"10-2021\":\"12-2021\"])"
   ]
  },
  {
   "cell_type": "code",
   "execution_count": 6,
   "id": "55b3c7ee",
   "metadata": {
    "execution": {
     "iopub.execute_input": "2022-07-14T05:31:08.533676Z",
     "iopub.status.busy": "2022-07-14T05:31:08.533307Z",
     "iopub.status.idle": "2022-07-14T05:31:08.540356Z",
     "shell.execute_reply": "2022-07-14T05:31:08.539030Z"
    },
    "papermill": {
     "duration": 0.014655,
     "end_time": "2022-07-14T05:31:08.542758",
     "exception": false,
     "start_time": "2022-07-14T05:31:08.528103",
     "status": "completed"
    },
    "tags": []
   },
   "outputs": [
    {
     "data": {
      "text/plain": [
       "cufflinks.quant_figure.QuantFig"
      ]
     },
     "execution_count": 6,
     "metadata": {},
     "output_type": "execute_result"
    }
   ],
   "source": [
    "type(qf)"
   ]
  },
  {
   "cell_type": "code",
   "execution_count": 7,
   "id": "1ffd941f",
   "metadata": {
    "execution": {
     "iopub.execute_input": "2022-07-14T05:31:08.551581Z",
     "iopub.status.busy": "2022-07-14T05:31:08.551209Z",
     "iopub.status.idle": "2022-07-14T05:31:09.585647Z",
     "shell.execute_reply": "2022-07-14T05:31:09.584805Z"
    },
    "papermill": {
     "duration": 1.041729,
     "end_time": "2022-07-14T05:31:09.588090",
     "exception": false,
     "start_time": "2022-07-14T05:31:08.546361",
     "status": "completed"
    },
    "tags": []
   },
   "outputs": [
    {
     "data": {
      "application/vnd.plotly.v1+json": {
       "config": {
        "linkText": "Export to plot.ly",
        "plotlyServerURL": "https://plot.ly",
        "showLink": true
       },
       "data": [
        {
         "close": [
          22.780000686645508,
          22.719999313354492,
          23.1299991607666,
          22.34000015258789,
          25.75,
          26.350000381469727,
          28.059999465942383,
          31.68000030517578,
          34.20000076293945,
          33.93000030517578,
          34.189998626708984,
          33.790000915527344,
          32.0,
          32.36000061035156,
          33.56999969482422,
          32.27000045776367,
          32.20000076293945,
          33.16999816894531,
          32.36000061035156,
          32.040000915527344,
          31.579999923706055,
          33.529998779296875,
          31.770000457763672,
          32.880001068115234,
          32.47999954223633,
          32.7599983215332,
          34.08000183105469,
          33.61000061035156,
          33.459999084472656,
          33.59000015258789,
          33.56999969482422,
          33.56999969482422,
          34.65999984741211,
          34.939998626708984,
          33.13999938964844,
          33.45000076293945,
          32.2400016784668,
          32.84000015258789,
          32.880001068115234,
          30.360000610351562,
          30.959999084472656,
          30.540000915527344,
          31.280000686645508,
          31.969999313354492,
          31.450000762939453,
          30.799999237060547,
          31.850000381469727,
          32.61000061035156,
          32.13999938964844,
          32.75,
          31.950000762939453,
          31.690000534057617,
          32.150001525878906,
          31.6299991607666,
          30.309999465942383,
          29.469999313354492,
          30.3799991607666,
          31.5,
          31.209999084472656,
          31.780000686645508,
          31.719999313354492,
          31.549999237060547,
          31.329999923706055,
          32.09000015258789
         ],
         "decreasing": {
          "line": {
           "color": "#808080"
          }
         },
         "high": [
          22.899999618530273,
          23.200000762939453,
          23.200000762939453,
          22.469999313354492,
          25.899999618530273,
          26.350000381469727,
          28.40999984741211,
          32.0,
          34.400001525878906,
          34.13999938964844,
          34.529998779296875,
          34.43000030517578,
          32.439998626708984,
          32.630001068115234,
          33.84000015258789,
          32.689998626708984,
          32.470001220703125,
          33.81999969482422,
          32.86000061035156,
          32.31999969482422,
          32.099998474121094,
          33.939998626708984,
          32.70000076293945,
          32.91999816894531,
          32.77000045776367,
          33.029998779296875,
          34.33000183105469,
          34.36000061035156,
          34.709999084472656,
          33.86000061035156,
          33.72999954223633,
          33.97999954223633,
          34.939998626708984,
          35.380001068115234,
          33.790000915527344,
          33.59000015258789,
          32.790000915527344,
          33.16999816894531,
          32.900001525878906,
          30.549999237060547,
          30.989999771118164,
          30.969999313354492,
          32.209999084472656,
          32.209999084472656,
          32.060001373291016,
          31.049999237060547,
          32.150001525878906,
          32.880001068115234,
          32.61000061035156,
          32.810001373291016,
          32.459999084472656,
          31.969999313354492,
          32.18000030517578,
          32.29999923706055,
          30.770000457763672,
          29.56999969482422,
          30.43000030517578,
          31.520000457763672,
          31.420000076293945,
          31.790000915527344,
          32.08000183105469,
          31.65999984741211,
          31.65999984741211,
          32.369998931884766
         ],
         "increasing": {
          "line": {
           "color": "#17BECF"
          }
         },
         "low": [
          22.479999542236328,
          22.65999984741211,
          22.969999313354492,
          22.110000610351562,
          24.610000610351562,
          25.639999389648438,
          27.34000015258789,
          29.479999542236328,
          32.52000045776367,
          32.58000183105469,
          33.869998931884766,
          33.630001068115234,
          31.700000762939453,
          32.18000030517578,
          33.290000915527344,
          31.940000534057617,
          32.029998779296875,
          33.04999923706055,
          32.25,
          31.700000762939453,
          31.479999542236328,
          32.709999084472656,
          31.610000610351562,
          31.719999313354492,
          32.38999938964844,
          32.59000015258789,
          33.52000045776367,
          33.20000076293945,
          33.25,
          33.33000183105469,
          33.36000061035156,
          33.34000015258789,
          34.36000061035156,
          34.90999984741211,
          32.5099983215332,
          32.900001525878906,
          31.8700008392334,
          32.4900016784668,
          32.130001068115234,
          30.020000457763672,
          30.270000457763672,
          30.309999465942383,
          31.25,
          31.56999969482422,
          31.09000015258789,
          30.350000381469727,
          31.719999313354492,
          32.400001525878906,
          32.09000015258789,
          32.369998931884766,
          31.690000534057617,
          31.40999984741211,
          31.299999237060547,
          31.549999237060547,
          30.030000686645508,
          28.8700008392334,
          29.8799991607666,
          30.889999389648438,
          31.100000381469727,
          31.15999984741211,
          31.600000381469727,
          31.450000762939453,
          31.309999465942383,
          32.04999923706055
         ],
         "name": "Trace 1",
         "open": [
          22.5,
          23.149999618530273,
          22.979999542236328,
          22.219999313354492,
          24.6200008392334,
          25.639999389648438,
          27.670000076293945,
          29.5,
          32.849998474121094,
          32.9900016784668,
          33.97999954223633,
          34.13999938964844,
          32.439998626708984,
          32.4900016784668,
          33.56999969482422,
          32.599998474121094,
          32.099998474121094,
          33.779998779296875,
          32.790000915527344,
          31.729999542236328,
          32.0,
          32.7599983215332,
          32.439998626708984,
          31.729999542236328,
          32.709999084472656,
          32.779998779296875,
          33.63999938964844,
          34.290000915527344,
          33.90999984741211,
          33.41999816894531,
          33.689998626708984,
          33.58000183105469,
          34.4900016784668,
          35.099998474121094,
          33.7400016784668,
          32.9900016784668,
          32.31999969482422,
          32.900001525878906,
          32.29999923706055,
          30.149999618530273,
          30.700000762939453,
          30.719999313354492,
          31.959999084472656,
          31.829999923706055,
          32.0,
          31.0,
          31.979999542236328,
          32.5,
          32.4900016784668,
          32.619998931884766,
          32.2400016784668,
          31.709999084472656,
          31.940000534057617,
          32.18000030517578,
          30.15999984741211,
          29.239999771118164,
          29.8799991607666,
          30.93000030517578,
          31.15999984741211,
          31.190000534057617,
          32.08000183105469,
          31.600000381469727,
          31.530000686645508,
          32.18000030517578
         ],
         "showlegend": true,
         "type": "candlestick",
         "x": [
          "2021-10-01",
          "2021-10-04",
          "2021-10-05",
          "2021-10-06",
          "2021-10-07",
          "2021-10-08",
          "2021-10-11",
          "2021-10-12",
          "2021-10-13",
          "2021-10-14",
          "2021-10-15",
          "2021-10-18",
          "2021-10-19",
          "2021-10-20",
          "2021-10-21",
          "2021-10-22",
          "2021-10-25",
          "2021-10-26",
          "2021-10-27",
          "2021-10-28",
          "2021-10-29",
          "2021-11-01",
          "2021-11-02",
          "2021-11-03",
          "2021-11-04",
          "2021-11-05",
          "2021-11-08",
          "2021-11-09",
          "2021-11-10",
          "2021-11-11",
          "2021-11-12",
          "2021-11-15",
          "2021-11-16",
          "2021-11-17",
          "2021-11-18",
          "2021-11-19",
          "2021-11-22",
          "2021-11-23",
          "2021-11-24",
          "2021-11-26",
          "2021-11-29",
          "2021-11-30",
          "2021-12-01",
          "2021-12-02",
          "2021-12-03",
          "2021-12-06",
          "2021-12-07",
          "2021-12-08",
          "2021-12-09",
          "2021-12-10",
          "2021-12-13",
          "2021-12-14",
          "2021-12-15",
          "2021-12-16",
          "2021-12-17",
          "2021-12-20",
          "2021-12-21",
          "2021-12-22",
          "2021-12-23",
          "2021-12-27",
          "2021-12-28",
          "2021-12-29",
          "2021-12-30",
          "2021-12-31"
         ],
         "yaxis": "y2"
        }
       ],
       "layout": {
        "legend": {
         "bgcolor": "#F5F6F9",
         "font": {
          "color": "#4D5663"
         }
        },
        "margin": {
         "b": 30,
         "l": 30,
         "r": 30,
         "t": 30
        },
        "paper_bgcolor": "#F5F6F9",
        "plot_bgcolor": "#F5F6F9",
        "showlegend": true,
        "template": {
         "data": {
          "bar": [
           {
            "error_x": {
             "color": "#2a3f5f"
            },
            "error_y": {
             "color": "#2a3f5f"
            },
            "marker": {
             "line": {
              "color": "#E5ECF6",
              "width": 0.5
             },
             "pattern": {
              "fillmode": "overlay",
              "size": 10,
              "solidity": 0.2
             }
            },
            "type": "bar"
           }
          ],
          "barpolar": [
           {
            "marker": {
             "line": {
              "color": "#E5ECF6",
              "width": 0.5
             },
             "pattern": {
              "fillmode": "overlay",
              "size": 10,
              "solidity": 0.2
             }
            },
            "type": "barpolar"
           }
          ],
          "carpet": [
           {
            "aaxis": {
             "endlinecolor": "#2a3f5f",
             "gridcolor": "white",
             "linecolor": "white",
             "minorgridcolor": "white",
             "startlinecolor": "#2a3f5f"
            },
            "baxis": {
             "endlinecolor": "#2a3f5f",
             "gridcolor": "white",
             "linecolor": "white",
             "minorgridcolor": "white",
             "startlinecolor": "#2a3f5f"
            },
            "type": "carpet"
           }
          ],
          "choropleth": [
           {
            "colorbar": {
             "outlinewidth": 0,
             "ticks": ""
            },
            "type": "choropleth"
           }
          ],
          "contour": [
           {
            "colorbar": {
             "outlinewidth": 0,
             "ticks": ""
            },
            "colorscale": [
             [
              0.0,
              "#0d0887"
             ],
             [
              0.1111111111111111,
              "#46039f"
             ],
             [
              0.2222222222222222,
              "#7201a8"
             ],
             [
              0.3333333333333333,
              "#9c179e"
             ],
             [
              0.4444444444444444,
              "#bd3786"
             ],
             [
              0.5555555555555556,
              "#d8576b"
             ],
             [
              0.6666666666666666,
              "#ed7953"
             ],
             [
              0.7777777777777778,
              "#fb9f3a"
             ],
             [
              0.8888888888888888,
              "#fdca26"
             ],
             [
              1.0,
              "#f0f921"
             ]
            ],
            "type": "contour"
           }
          ],
          "contourcarpet": [
           {
            "colorbar": {
             "outlinewidth": 0,
             "ticks": ""
            },
            "type": "contourcarpet"
           }
          ],
          "heatmap": [
           {
            "colorbar": {
             "outlinewidth": 0,
             "ticks": ""
            },
            "colorscale": [
             [
              0.0,
              "#0d0887"
             ],
             [
              0.1111111111111111,
              "#46039f"
             ],
             [
              0.2222222222222222,
              "#7201a8"
             ],
             [
              0.3333333333333333,
              "#9c179e"
             ],
             [
              0.4444444444444444,
              "#bd3786"
             ],
             [
              0.5555555555555556,
              "#d8576b"
             ],
             [
              0.6666666666666666,
              "#ed7953"
             ],
             [
              0.7777777777777778,
              "#fb9f3a"
             ],
             [
              0.8888888888888888,
              "#fdca26"
             ],
             [
              1.0,
              "#f0f921"
             ]
            ],
            "type": "heatmap"
           }
          ],
          "heatmapgl": [
           {
            "colorbar": {
             "outlinewidth": 0,
             "ticks": ""
            },
            "colorscale": [
             [
              0.0,
              "#0d0887"
             ],
             [
              0.1111111111111111,
              "#46039f"
             ],
             [
              0.2222222222222222,
              "#7201a8"
             ],
             [
              0.3333333333333333,
              "#9c179e"
             ],
             [
              0.4444444444444444,
              "#bd3786"
             ],
             [
              0.5555555555555556,
              "#d8576b"
             ],
             [
              0.6666666666666666,
              "#ed7953"
             ],
             [
              0.7777777777777778,
              "#fb9f3a"
             ],
             [
              0.8888888888888888,
              "#fdca26"
             ],
             [
              1.0,
              "#f0f921"
             ]
            ],
            "type": "heatmapgl"
           }
          ],
          "histogram": [
           {
            "marker": {
             "pattern": {
              "fillmode": "overlay",
              "size": 10,
              "solidity": 0.2
             }
            },
            "type": "histogram"
           }
          ],
          "histogram2d": [
           {
            "colorbar": {
             "outlinewidth": 0,
             "ticks": ""
            },
            "colorscale": [
             [
              0.0,
              "#0d0887"
             ],
             [
              0.1111111111111111,
              "#46039f"
             ],
             [
              0.2222222222222222,
              "#7201a8"
             ],
             [
              0.3333333333333333,
              "#9c179e"
             ],
             [
              0.4444444444444444,
              "#bd3786"
             ],
             [
              0.5555555555555556,
              "#d8576b"
             ],
             [
              0.6666666666666666,
              "#ed7953"
             ],
             [
              0.7777777777777778,
              "#fb9f3a"
             ],
             [
              0.8888888888888888,
              "#fdca26"
             ],
             [
              1.0,
              "#f0f921"
             ]
            ],
            "type": "histogram2d"
           }
          ],
          "histogram2dcontour": [
           {
            "colorbar": {
             "outlinewidth": 0,
             "ticks": ""
            },
            "colorscale": [
             [
              0.0,
              "#0d0887"
             ],
             [
              0.1111111111111111,
              "#46039f"
             ],
             [
              0.2222222222222222,
              "#7201a8"
             ],
             [
              0.3333333333333333,
              "#9c179e"
             ],
             [
              0.4444444444444444,
              "#bd3786"
             ],
             [
              0.5555555555555556,
              "#d8576b"
             ],
             [
              0.6666666666666666,
              "#ed7953"
             ],
             [
              0.7777777777777778,
              "#fb9f3a"
             ],
             [
              0.8888888888888888,
              "#fdca26"
             ],
             [
              1.0,
              "#f0f921"
             ]
            ],
            "type": "histogram2dcontour"
           }
          ],
          "mesh3d": [
           {
            "colorbar": {
             "outlinewidth": 0,
             "ticks": ""
            },
            "type": "mesh3d"
           }
          ],
          "parcoords": [
           {
            "line": {
             "colorbar": {
              "outlinewidth": 0,
              "ticks": ""
             }
            },
            "type": "parcoords"
           }
          ],
          "pie": [
           {
            "automargin": true,
            "type": "pie"
           }
          ],
          "scatter": [
           {
            "fillpattern": {
             "fillmode": "overlay",
             "size": 10,
             "solidity": 0.2
            },
            "type": "scatter"
           }
          ],
          "scatter3d": [
           {
            "line": {
             "colorbar": {
              "outlinewidth": 0,
              "ticks": ""
             }
            },
            "marker": {
             "colorbar": {
              "outlinewidth": 0,
              "ticks": ""
             }
            },
            "type": "scatter3d"
           }
          ],
          "scattercarpet": [
           {
            "marker": {
             "colorbar": {
              "outlinewidth": 0,
              "ticks": ""
             }
            },
            "type": "scattercarpet"
           }
          ],
          "scattergeo": [
           {
            "marker": {
             "colorbar": {
              "outlinewidth": 0,
              "ticks": ""
             }
            },
            "type": "scattergeo"
           }
          ],
          "scattergl": [
           {
            "marker": {
             "colorbar": {
              "outlinewidth": 0,
              "ticks": ""
             }
            },
            "type": "scattergl"
           }
          ],
          "scattermapbox": [
           {
            "marker": {
             "colorbar": {
              "outlinewidth": 0,
              "ticks": ""
             }
            },
            "type": "scattermapbox"
           }
          ],
          "scatterpolar": [
           {
            "marker": {
             "colorbar": {
              "outlinewidth": 0,
              "ticks": ""
             }
            },
            "type": "scatterpolar"
           }
          ],
          "scatterpolargl": [
           {
            "marker": {
             "colorbar": {
              "outlinewidth": 0,
              "ticks": ""
             }
            },
            "type": "scatterpolargl"
           }
          ],
          "scatterternary": [
           {
            "marker": {
             "colorbar": {
              "outlinewidth": 0,
              "ticks": ""
             }
            },
            "type": "scatterternary"
           }
          ],
          "surface": [
           {
            "colorbar": {
             "outlinewidth": 0,
             "ticks": ""
            },
            "colorscale": [
             [
              0.0,
              "#0d0887"
             ],
             [
              0.1111111111111111,
              "#46039f"
             ],
             [
              0.2222222222222222,
              "#7201a8"
             ],
             [
              0.3333333333333333,
              "#9c179e"
             ],
             [
              0.4444444444444444,
              "#bd3786"
             ],
             [
              0.5555555555555556,
              "#d8576b"
             ],
             [
              0.6666666666666666,
              "#ed7953"
             ],
             [
              0.7777777777777778,
              "#fb9f3a"
             ],
             [
              0.8888888888888888,
              "#fdca26"
             ],
             [
              1.0,
              "#f0f921"
             ]
            ],
            "type": "surface"
           }
          ],
          "table": [
           {
            "cells": {
             "fill": {
              "color": "#EBF0F8"
             },
             "line": {
              "color": "white"
             }
            },
            "header": {
             "fill": {
              "color": "#C8D4E3"
             },
             "line": {
              "color": "white"
             }
            },
            "type": "table"
           }
          ]
         },
         "layout": {
          "annotationdefaults": {
           "arrowcolor": "#2a3f5f",
           "arrowhead": 0,
           "arrowwidth": 1
          },
          "autotypenumbers": "strict",
          "coloraxis": {
           "colorbar": {
            "outlinewidth": 0,
            "ticks": ""
           }
          },
          "colorscale": {
           "diverging": [
            [
             0,
             "#8e0152"
            ],
            [
             0.1,
             "#c51b7d"
            ],
            [
             0.2,
             "#de77ae"
            ],
            [
             0.3,
             "#f1b6da"
            ],
            [
             0.4,
             "#fde0ef"
            ],
            [
             0.5,
             "#f7f7f7"
            ],
            [
             0.6,
             "#e6f5d0"
            ],
            [
             0.7,
             "#b8e186"
            ],
            [
             0.8,
             "#7fbc41"
            ],
            [
             0.9,
             "#4d9221"
            ],
            [
             1,
             "#276419"
            ]
           ],
           "sequential": [
            [
             0.0,
             "#0d0887"
            ],
            [
             0.1111111111111111,
             "#46039f"
            ],
            [
             0.2222222222222222,
             "#7201a8"
            ],
            [
             0.3333333333333333,
             "#9c179e"
            ],
            [
             0.4444444444444444,
             "#bd3786"
            ],
            [
             0.5555555555555556,
             "#d8576b"
            ],
            [
             0.6666666666666666,
             "#ed7953"
            ],
            [
             0.7777777777777778,
             "#fb9f3a"
            ],
            [
             0.8888888888888888,
             "#fdca26"
            ],
            [
             1.0,
             "#f0f921"
            ]
           ],
           "sequentialminus": [
            [
             0.0,
             "#0d0887"
            ],
            [
             0.1111111111111111,
             "#46039f"
            ],
            [
             0.2222222222222222,
             "#7201a8"
            ],
            [
             0.3333333333333333,
             "#9c179e"
            ],
            [
             0.4444444444444444,
             "#bd3786"
            ],
            [
             0.5555555555555556,
             "#d8576b"
            ],
            [
             0.6666666666666666,
             "#ed7953"
            ],
            [
             0.7777777777777778,
             "#fb9f3a"
            ],
            [
             0.8888888888888888,
             "#fdca26"
            ],
            [
             1.0,
             "#f0f921"
            ]
           ]
          },
          "colorway": [
           "#636efa",
           "#EF553B",
           "#00cc96",
           "#ab63fa",
           "#FFA15A",
           "#19d3f3",
           "#FF6692",
           "#B6E880",
           "#FF97FF",
           "#FECB52"
          ],
          "font": {
           "color": "#2a3f5f"
          },
          "geo": {
           "bgcolor": "white",
           "lakecolor": "white",
           "landcolor": "#E5ECF6",
           "showlakes": true,
           "showland": true,
           "subunitcolor": "white"
          },
          "hoverlabel": {
           "align": "left"
          },
          "hovermode": "closest",
          "mapbox": {
           "style": "light"
          },
          "paper_bgcolor": "white",
          "plot_bgcolor": "#E5ECF6",
          "polar": {
           "angularaxis": {
            "gridcolor": "white",
            "linecolor": "white",
            "ticks": ""
           },
           "bgcolor": "#E5ECF6",
           "radialaxis": {
            "gridcolor": "white",
            "linecolor": "white",
            "ticks": ""
           }
          },
          "scene": {
           "xaxis": {
            "backgroundcolor": "#E5ECF6",
            "gridcolor": "white",
            "gridwidth": 2,
            "linecolor": "white",
            "showbackground": true,
            "ticks": "",
            "zerolinecolor": "white"
           },
           "yaxis": {
            "backgroundcolor": "#E5ECF6",
            "gridcolor": "white",
            "gridwidth": 2,
            "linecolor": "white",
            "showbackground": true,
            "ticks": "",
            "zerolinecolor": "white"
           },
           "zaxis": {
            "backgroundcolor": "#E5ECF6",
            "gridcolor": "white",
            "gridwidth": 2,
            "linecolor": "white",
            "showbackground": true,
            "ticks": "",
            "zerolinecolor": "white"
           }
          },
          "shapedefaults": {
           "line": {
            "color": "#2a3f5f"
           }
          },
          "ternary": {
           "aaxis": {
            "gridcolor": "white",
            "linecolor": "white",
            "ticks": ""
           },
           "baxis": {
            "gridcolor": "white",
            "linecolor": "white",
            "ticks": ""
           },
           "bgcolor": "#E5ECF6",
           "caxis": {
            "gridcolor": "white",
            "linecolor": "white",
            "ticks": ""
           }
          },
          "title": {
           "x": 0.05
          },
          "xaxis": {
           "automargin": true,
           "gridcolor": "white",
           "linecolor": "white",
           "ticks": "",
           "title": {
            "standoff": 15
           },
           "zerolinecolor": "white",
           "zerolinewidth": 2
          },
          "yaxis": {
           "automargin": true,
           "gridcolor": "white",
           "linecolor": "white",
           "ticks": "",
           "title": {
            "standoff": 15
           },
           "zerolinecolor": "white",
           "zerolinewidth": 2
          }
         }
        },
        "title": {
         "font": {
          "color": "#4D5663"
         }
        },
        "xaxis": {
         "anchor": "y2",
         "gridcolor": "#E1E5ED",
         "rangeselector": {
          "bgcolor": "rgba(150, 200, 250, 1)",
          "buttons": [
           {
            "count": 1,
            "label": "1m",
            "step": "month",
            "stepmode": "backward"
           },
           {
            "count": 1,
            "label": "1y",
            "step": "year",
            "stepmode": "backward"
           }
          ],
          "font": {
           "size": 13
          },
          "visible": false,
          "x": 0,
          "y": 0.9
         },
         "rangeslider": {
          "visible": false
         },
         "showgrid": true,
         "tickfont": {
          "color": "#4D5663"
         },
         "title": {
          "font": {
           "color": "#4D5663"
          },
          "text": ""
         },
         "zerolinecolor": "#E1E5ED"
        },
        "yaxis": {
         "gridcolor": "#E1E5ED",
         "showgrid": true,
         "showticklabels": false,
         "tickfont": {
          "color": "#4D5663"
         },
         "title": {
          "font": {
           "color": "#4D5663"
          },
          "text": ""
         },
         "zerolinecolor": "#E1E5ED"
        },
        "yaxis2": {
         "domain": [
          0.0,
          0.9
         ],
         "gridcolor": "#E1E5ED",
         "showgrid": true,
         "tickfont": {
          "color": "#4D5663"
         },
         "title": {
          "font": {
           "color": "#4D5663"
          },
          "text": ""
         },
         "zerolinecolor": "#E1E5ED"
        }
       }
      },
      "text/html": [
       "<div>                            <div id=\"03db7827-2d64-424e-8eb0-55d302dd9653\" class=\"plotly-graph-div\" style=\"height:525px; width:100%;\"></div>            <script type=\"text/javascript\">                require([\"plotly\"], function(Plotly) {                    window.PLOTLYENV=window.PLOTLYENV || {};\n",
       "                    window.PLOTLYENV.BASE_URL='https://plot.ly';                                    if (document.getElementById(\"03db7827-2d64-424e-8eb0-55d302dd9653\")) {                    Plotly.newPlot(                        \"03db7827-2d64-424e-8eb0-55d302dd9653\",                        [{\"close\":[22.780000686645508,22.719999313354492,23.1299991607666,22.34000015258789,25.75,26.350000381469727,28.059999465942383,31.68000030517578,34.20000076293945,33.93000030517578,34.189998626708984,33.790000915527344,32.0,32.36000061035156,33.56999969482422,32.27000045776367,32.20000076293945,33.16999816894531,32.36000061035156,32.040000915527344,31.579999923706055,33.529998779296875,31.770000457763672,32.880001068115234,32.47999954223633,32.7599983215332,34.08000183105469,33.61000061035156,33.459999084472656,33.59000015258789,33.56999969482422,33.56999969482422,34.65999984741211,34.939998626708984,33.13999938964844,33.45000076293945,32.2400016784668,32.84000015258789,32.880001068115234,30.360000610351562,30.959999084472656,30.540000915527344,31.280000686645508,31.969999313354492,31.450000762939453,30.799999237060547,31.850000381469727,32.61000061035156,32.13999938964844,32.75,31.950000762939453,31.690000534057617,32.150001525878906,31.6299991607666,30.309999465942383,29.469999313354492,30.3799991607666,31.5,31.209999084472656,31.780000686645508,31.719999313354492,31.549999237060547,31.329999923706055,32.09000015258789],\"decreasing\":{\"line\":{\"color\":\"#808080\"}},\"high\":[22.899999618530273,23.200000762939453,23.200000762939453,22.469999313354492,25.899999618530273,26.350000381469727,28.40999984741211,32.0,34.400001525878906,34.13999938964844,34.529998779296875,34.43000030517578,32.439998626708984,32.630001068115234,33.84000015258789,32.689998626708984,32.470001220703125,33.81999969482422,32.86000061035156,32.31999969482422,32.099998474121094,33.939998626708984,32.70000076293945,32.91999816894531,32.77000045776367,33.029998779296875,34.33000183105469,34.36000061035156,34.709999084472656,33.86000061035156,33.72999954223633,33.97999954223633,34.939998626708984,35.380001068115234,33.790000915527344,33.59000015258789,32.790000915527344,33.16999816894531,32.900001525878906,30.549999237060547,30.989999771118164,30.969999313354492,32.209999084472656,32.209999084472656,32.060001373291016,31.049999237060547,32.150001525878906,32.880001068115234,32.61000061035156,32.810001373291016,32.459999084472656,31.969999313354492,32.18000030517578,32.29999923706055,30.770000457763672,29.56999969482422,30.43000030517578,31.520000457763672,31.420000076293945,31.790000915527344,32.08000183105469,31.65999984741211,31.65999984741211,32.369998931884766],\"increasing\":{\"line\":{\"color\":\"#17BECF\"}},\"low\":[22.479999542236328,22.65999984741211,22.969999313354492,22.110000610351562,24.610000610351562,25.639999389648438,27.34000015258789,29.479999542236328,32.52000045776367,32.58000183105469,33.869998931884766,33.630001068115234,31.700000762939453,32.18000030517578,33.290000915527344,31.940000534057617,32.029998779296875,33.04999923706055,32.25,31.700000762939453,31.479999542236328,32.709999084472656,31.610000610351562,31.719999313354492,32.38999938964844,32.59000015258789,33.52000045776367,33.20000076293945,33.25,33.33000183105469,33.36000061035156,33.34000015258789,34.36000061035156,34.90999984741211,32.5099983215332,32.900001525878906,31.8700008392334,32.4900016784668,32.130001068115234,30.020000457763672,30.270000457763672,30.309999465942383,31.25,31.56999969482422,31.09000015258789,30.350000381469727,31.719999313354492,32.400001525878906,32.09000015258789,32.369998931884766,31.690000534057617,31.40999984741211,31.299999237060547,31.549999237060547,30.030000686645508,28.8700008392334,29.8799991607666,30.889999389648438,31.100000381469727,31.15999984741211,31.600000381469727,31.450000762939453,31.309999465942383,32.04999923706055],\"name\":\"Trace 1\",\"open\":[22.5,23.149999618530273,22.979999542236328,22.219999313354492,24.6200008392334,25.639999389648438,27.670000076293945,29.5,32.849998474121094,32.9900016784668,33.97999954223633,34.13999938964844,32.439998626708984,32.4900016784668,33.56999969482422,32.599998474121094,32.099998474121094,33.779998779296875,32.790000915527344,31.729999542236328,32.0,32.7599983215332,32.439998626708984,31.729999542236328,32.709999084472656,32.779998779296875,33.63999938964844,34.290000915527344,33.90999984741211,33.41999816894531,33.689998626708984,33.58000183105469,34.4900016784668,35.099998474121094,33.7400016784668,32.9900016784668,32.31999969482422,32.900001525878906,32.29999923706055,30.149999618530273,30.700000762939453,30.719999313354492,31.959999084472656,31.829999923706055,32.0,31.0,31.979999542236328,32.5,32.4900016784668,32.619998931884766,32.2400016784668,31.709999084472656,31.940000534057617,32.18000030517578,30.15999984741211,29.239999771118164,29.8799991607666,30.93000030517578,31.15999984741211,31.190000534057617,32.08000183105469,31.600000381469727,31.530000686645508,32.18000030517578],\"showlegend\":true,\"x\":[\"2021-10-01\",\"2021-10-04\",\"2021-10-05\",\"2021-10-06\",\"2021-10-07\",\"2021-10-08\",\"2021-10-11\",\"2021-10-12\",\"2021-10-13\",\"2021-10-14\",\"2021-10-15\",\"2021-10-18\",\"2021-10-19\",\"2021-10-20\",\"2021-10-21\",\"2021-10-22\",\"2021-10-25\",\"2021-10-26\",\"2021-10-27\",\"2021-10-28\",\"2021-10-29\",\"2021-11-01\",\"2021-11-02\",\"2021-11-03\",\"2021-11-04\",\"2021-11-05\",\"2021-11-08\",\"2021-11-09\",\"2021-11-10\",\"2021-11-11\",\"2021-11-12\",\"2021-11-15\",\"2021-11-16\",\"2021-11-17\",\"2021-11-18\",\"2021-11-19\",\"2021-11-22\",\"2021-11-23\",\"2021-11-24\",\"2021-11-26\",\"2021-11-29\",\"2021-11-30\",\"2021-12-01\",\"2021-12-02\",\"2021-12-03\",\"2021-12-06\",\"2021-12-07\",\"2021-12-08\",\"2021-12-09\",\"2021-12-10\",\"2021-12-13\",\"2021-12-14\",\"2021-12-15\",\"2021-12-16\",\"2021-12-17\",\"2021-12-20\",\"2021-12-21\",\"2021-12-22\",\"2021-12-23\",\"2021-12-27\",\"2021-12-28\",\"2021-12-29\",\"2021-12-30\",\"2021-12-31\"],\"yaxis\":\"y2\",\"type\":\"candlestick\"}],                        {\"legend\":{\"bgcolor\":\"#F5F6F9\",\"font\":{\"color\":\"#4D5663\"}},\"margin\":{\"b\":30,\"l\":30,\"r\":30,\"t\":30},\"paper_bgcolor\":\"#F5F6F9\",\"plot_bgcolor\":\"#F5F6F9\",\"showlegend\":true,\"template\":{\"data\":{\"barpolar\":[{\"marker\":{\"line\":{\"color\":\"#E5ECF6\",\"width\":0.5},\"pattern\":{\"fillmode\":\"overlay\",\"size\":10,\"solidity\":0.2}},\"type\":\"barpolar\"}],\"bar\":[{\"error_x\":{\"color\":\"#2a3f5f\"},\"error_y\":{\"color\":\"#2a3f5f\"},\"marker\":{\"line\":{\"color\":\"#E5ECF6\",\"width\":0.5},\"pattern\":{\"fillmode\":\"overlay\",\"size\":10,\"solidity\":0.2}},\"type\":\"bar\"}],\"carpet\":[{\"aaxis\":{\"endlinecolor\":\"#2a3f5f\",\"gridcolor\":\"white\",\"linecolor\":\"white\",\"minorgridcolor\":\"white\",\"startlinecolor\":\"#2a3f5f\"},\"baxis\":{\"endlinecolor\":\"#2a3f5f\",\"gridcolor\":\"white\",\"linecolor\":\"white\",\"minorgridcolor\":\"white\",\"startlinecolor\":\"#2a3f5f\"},\"type\":\"carpet\"}],\"choropleth\":[{\"colorbar\":{\"outlinewidth\":0,\"ticks\":\"\"},\"type\":\"choropleth\"}],\"contourcarpet\":[{\"colorbar\":{\"outlinewidth\":0,\"ticks\":\"\"},\"type\":\"contourcarpet\"}],\"contour\":[{\"colorbar\":{\"outlinewidth\":0,\"ticks\":\"\"},\"colorscale\":[[0.0,\"#0d0887\"],[0.1111111111111111,\"#46039f\"],[0.2222222222222222,\"#7201a8\"],[0.3333333333333333,\"#9c179e\"],[0.4444444444444444,\"#bd3786\"],[0.5555555555555556,\"#d8576b\"],[0.6666666666666666,\"#ed7953\"],[0.7777777777777778,\"#fb9f3a\"],[0.8888888888888888,\"#fdca26\"],[1.0,\"#f0f921\"]],\"type\":\"contour\"}],\"heatmapgl\":[{\"colorbar\":{\"outlinewidth\":0,\"ticks\":\"\"},\"colorscale\":[[0.0,\"#0d0887\"],[0.1111111111111111,\"#46039f\"],[0.2222222222222222,\"#7201a8\"],[0.3333333333333333,\"#9c179e\"],[0.4444444444444444,\"#bd3786\"],[0.5555555555555556,\"#d8576b\"],[0.6666666666666666,\"#ed7953\"],[0.7777777777777778,\"#fb9f3a\"],[0.8888888888888888,\"#fdca26\"],[1.0,\"#f0f921\"]],\"type\":\"heatmapgl\"}],\"heatmap\":[{\"colorbar\":{\"outlinewidth\":0,\"ticks\":\"\"},\"colorscale\":[[0.0,\"#0d0887\"],[0.1111111111111111,\"#46039f\"],[0.2222222222222222,\"#7201a8\"],[0.3333333333333333,\"#9c179e\"],[0.4444444444444444,\"#bd3786\"],[0.5555555555555556,\"#d8576b\"],[0.6666666666666666,\"#ed7953\"],[0.7777777777777778,\"#fb9f3a\"],[0.8888888888888888,\"#fdca26\"],[1.0,\"#f0f921\"]],\"type\":\"heatmap\"}],\"histogram2dcontour\":[{\"colorbar\":{\"outlinewidth\":0,\"ticks\":\"\"},\"colorscale\":[[0.0,\"#0d0887\"],[0.1111111111111111,\"#46039f\"],[0.2222222222222222,\"#7201a8\"],[0.3333333333333333,\"#9c179e\"],[0.4444444444444444,\"#bd3786\"],[0.5555555555555556,\"#d8576b\"],[0.6666666666666666,\"#ed7953\"],[0.7777777777777778,\"#fb9f3a\"],[0.8888888888888888,\"#fdca26\"],[1.0,\"#f0f921\"]],\"type\":\"histogram2dcontour\"}],\"histogram2d\":[{\"colorbar\":{\"outlinewidth\":0,\"ticks\":\"\"},\"colorscale\":[[0.0,\"#0d0887\"],[0.1111111111111111,\"#46039f\"],[0.2222222222222222,\"#7201a8\"],[0.3333333333333333,\"#9c179e\"],[0.4444444444444444,\"#bd3786\"],[0.5555555555555556,\"#d8576b\"],[0.6666666666666666,\"#ed7953\"],[0.7777777777777778,\"#fb9f3a\"],[0.8888888888888888,\"#fdca26\"],[1.0,\"#f0f921\"]],\"type\":\"histogram2d\"}],\"histogram\":[{\"marker\":{\"pattern\":{\"fillmode\":\"overlay\",\"size\":10,\"solidity\":0.2}},\"type\":\"histogram\"}],\"mesh3d\":[{\"colorbar\":{\"outlinewidth\":0,\"ticks\":\"\"},\"type\":\"mesh3d\"}],\"parcoords\":[{\"line\":{\"colorbar\":{\"outlinewidth\":0,\"ticks\":\"\"}},\"type\":\"parcoords\"}],\"pie\":[{\"automargin\":true,\"type\":\"pie\"}],\"scatter3d\":[{\"line\":{\"colorbar\":{\"outlinewidth\":0,\"ticks\":\"\"}},\"marker\":{\"colorbar\":{\"outlinewidth\":0,\"ticks\":\"\"}},\"type\":\"scatter3d\"}],\"scattercarpet\":[{\"marker\":{\"colorbar\":{\"outlinewidth\":0,\"ticks\":\"\"}},\"type\":\"scattercarpet\"}],\"scattergeo\":[{\"marker\":{\"colorbar\":{\"outlinewidth\":0,\"ticks\":\"\"}},\"type\":\"scattergeo\"}],\"scattergl\":[{\"marker\":{\"colorbar\":{\"outlinewidth\":0,\"ticks\":\"\"}},\"type\":\"scattergl\"}],\"scattermapbox\":[{\"marker\":{\"colorbar\":{\"outlinewidth\":0,\"ticks\":\"\"}},\"type\":\"scattermapbox\"}],\"scatterpolargl\":[{\"marker\":{\"colorbar\":{\"outlinewidth\":0,\"ticks\":\"\"}},\"type\":\"scatterpolargl\"}],\"scatterpolar\":[{\"marker\":{\"colorbar\":{\"outlinewidth\":0,\"ticks\":\"\"}},\"type\":\"scatterpolar\"}],\"scatter\":[{\"fillpattern\":{\"fillmode\":\"overlay\",\"size\":10,\"solidity\":0.2},\"type\":\"scatter\"}],\"scatterternary\":[{\"marker\":{\"colorbar\":{\"outlinewidth\":0,\"ticks\":\"\"}},\"type\":\"scatterternary\"}],\"surface\":[{\"colorbar\":{\"outlinewidth\":0,\"ticks\":\"\"},\"colorscale\":[[0.0,\"#0d0887\"],[0.1111111111111111,\"#46039f\"],[0.2222222222222222,\"#7201a8\"],[0.3333333333333333,\"#9c179e\"],[0.4444444444444444,\"#bd3786\"],[0.5555555555555556,\"#d8576b\"],[0.6666666666666666,\"#ed7953\"],[0.7777777777777778,\"#fb9f3a\"],[0.8888888888888888,\"#fdca26\"],[1.0,\"#f0f921\"]],\"type\":\"surface\"}],\"table\":[{\"cells\":{\"fill\":{\"color\":\"#EBF0F8\"},\"line\":{\"color\":\"white\"}},\"header\":{\"fill\":{\"color\":\"#C8D4E3\"},\"line\":{\"color\":\"white\"}},\"type\":\"table\"}]},\"layout\":{\"annotationdefaults\":{\"arrowcolor\":\"#2a3f5f\",\"arrowhead\":0,\"arrowwidth\":1},\"autotypenumbers\":\"strict\",\"coloraxis\":{\"colorbar\":{\"outlinewidth\":0,\"ticks\":\"\"}},\"colorscale\":{\"diverging\":[[0,\"#8e0152\"],[0.1,\"#c51b7d\"],[0.2,\"#de77ae\"],[0.3,\"#f1b6da\"],[0.4,\"#fde0ef\"],[0.5,\"#f7f7f7\"],[0.6,\"#e6f5d0\"],[0.7,\"#b8e186\"],[0.8,\"#7fbc41\"],[0.9,\"#4d9221\"],[1,\"#276419\"]],\"sequential\":[[0.0,\"#0d0887\"],[0.1111111111111111,\"#46039f\"],[0.2222222222222222,\"#7201a8\"],[0.3333333333333333,\"#9c179e\"],[0.4444444444444444,\"#bd3786\"],[0.5555555555555556,\"#d8576b\"],[0.6666666666666666,\"#ed7953\"],[0.7777777777777778,\"#fb9f3a\"],[0.8888888888888888,\"#fdca26\"],[1.0,\"#f0f921\"]],\"sequentialminus\":[[0.0,\"#0d0887\"],[0.1111111111111111,\"#46039f\"],[0.2222222222222222,\"#7201a8\"],[0.3333333333333333,\"#9c179e\"],[0.4444444444444444,\"#bd3786\"],[0.5555555555555556,\"#d8576b\"],[0.6666666666666666,\"#ed7953\"],[0.7777777777777778,\"#fb9f3a\"],[0.8888888888888888,\"#fdca26\"],[1.0,\"#f0f921\"]]},\"colorway\":[\"#636efa\",\"#EF553B\",\"#00cc96\",\"#ab63fa\",\"#FFA15A\",\"#19d3f3\",\"#FF6692\",\"#B6E880\",\"#FF97FF\",\"#FECB52\"],\"font\":{\"color\":\"#2a3f5f\"},\"geo\":{\"bgcolor\":\"white\",\"lakecolor\":\"white\",\"landcolor\":\"#E5ECF6\",\"showlakes\":true,\"showland\":true,\"subunitcolor\":\"white\"},\"hoverlabel\":{\"align\":\"left\"},\"hovermode\":\"closest\",\"mapbox\":{\"style\":\"light\"},\"paper_bgcolor\":\"white\",\"plot_bgcolor\":\"#E5ECF6\",\"polar\":{\"angularaxis\":{\"gridcolor\":\"white\",\"linecolor\":\"white\",\"ticks\":\"\"},\"bgcolor\":\"#E5ECF6\",\"radialaxis\":{\"gridcolor\":\"white\",\"linecolor\":\"white\",\"ticks\":\"\"}},\"scene\":{\"xaxis\":{\"backgroundcolor\":\"#E5ECF6\",\"gridcolor\":\"white\",\"gridwidth\":2,\"linecolor\":\"white\",\"showbackground\":true,\"ticks\":\"\",\"zerolinecolor\":\"white\"},\"yaxis\":{\"backgroundcolor\":\"#E5ECF6\",\"gridcolor\":\"white\",\"gridwidth\":2,\"linecolor\":\"white\",\"showbackground\":true,\"ticks\":\"\",\"zerolinecolor\":\"white\"},\"zaxis\":{\"backgroundcolor\":\"#E5ECF6\",\"gridcolor\":\"white\",\"gridwidth\":2,\"linecolor\":\"white\",\"showbackground\":true,\"ticks\":\"\",\"zerolinecolor\":\"white\"}},\"shapedefaults\":{\"line\":{\"color\":\"#2a3f5f\"}},\"ternary\":{\"aaxis\":{\"gridcolor\":\"white\",\"linecolor\":\"white\",\"ticks\":\"\"},\"baxis\":{\"gridcolor\":\"white\",\"linecolor\":\"white\",\"ticks\":\"\"},\"bgcolor\":\"#E5ECF6\",\"caxis\":{\"gridcolor\":\"white\",\"linecolor\":\"white\",\"ticks\":\"\"}},\"title\":{\"x\":0.05},\"xaxis\":{\"automargin\":true,\"gridcolor\":\"white\",\"linecolor\":\"white\",\"ticks\":\"\",\"title\":{\"standoff\":15},\"zerolinecolor\":\"white\",\"zerolinewidth\":2},\"yaxis\":{\"automargin\":true,\"gridcolor\":\"white\",\"linecolor\":\"white\",\"ticks\":\"\",\"title\":{\"standoff\":15},\"zerolinecolor\":\"white\",\"zerolinewidth\":2}}},\"title\":{\"font\":{\"color\":\"#4D5663\"}},\"xaxis\":{\"anchor\":\"y2\",\"gridcolor\":\"#E1E5ED\",\"rangeselector\":{\"bgcolor\":\"rgba(150, 200, 250, 1)\",\"buttons\":[{\"count\":1,\"label\":\"1m\",\"step\":\"month\",\"stepmode\":\"backward\"},{\"count\":1,\"label\":\"1y\",\"step\":\"year\",\"stepmode\":\"backward\"}],\"font\":{\"size\":13},\"visible\":false,\"x\":0,\"y\":0.9},\"rangeslider\":{\"visible\":false},\"showgrid\":true,\"tickfont\":{\"color\":\"#4D5663\"},\"title\":{\"font\":{\"color\":\"#4D5663\"},\"text\":\"\"},\"zerolinecolor\":\"#E1E5ED\"},\"yaxis\":{\"gridcolor\":\"#E1E5ED\",\"showgrid\":true,\"showticklabels\":false,\"tickfont\":{\"color\":\"#4D5663\"},\"title\":{\"font\":{\"color\":\"#4D5663\"},\"text\":\"\"},\"zerolinecolor\":\"#E1E5ED\"},\"yaxis2\":{\"domain\":[0.0,0.9],\"gridcolor\":\"#E1E5ED\",\"showgrid\":true,\"tickfont\":{\"color\":\"#4D5663\"},\"title\":{\"font\":{\"color\":\"#4D5663\"},\"text\":\"\"},\"zerolinecolor\":\"#E1E5ED\"}},                        {\"showLink\": true, \"linkText\": \"Export to plot.ly\", \"plotlyServerURL\": \"https://plot.ly\", \"responsive\": true}                    ).then(function(){\n",
       "                            \n",
       "var gd = document.getElementById('03db7827-2d64-424e-8eb0-55d302dd9653');\n",
       "var x = new MutationObserver(function (mutations, observer) {{\n",
       "        var display = window.getComputedStyle(gd).display;\n",
       "        if (!display || display === 'none') {{\n",
       "            console.log([gd, 'removed!']);\n",
       "            Plotly.purge(gd);\n",
       "            observer.disconnect();\n",
       "        }}\n",
       "}});\n",
       "\n",
       "// Listen for the removal of the full notebook cells\n",
       "var notebookContainer = gd.closest('#notebook-container');\n",
       "if (notebookContainer) {{\n",
       "    x.observe(notebookContainer, {childList: true});\n",
       "}}\n",
       "\n",
       "// Listen for the clearing of the current output cell\n",
       "var outputEl = gd.closest('.output');\n",
       "if (outputEl) {{\n",
       "    x.observe(outputEl, {childList: true});\n",
       "}}\n",
       "\n",
       "                        })                };                });            </script>        </div>"
      ]
     },
     "metadata": {},
     "output_type": "display_data"
    }
   ],
   "source": [
    "qf.iplot(kind=\"candle\")"
   ]
  },
  {
   "cell_type": "code",
   "execution_count": 8,
   "id": "f3c626b8",
   "metadata": {
    "execution": {
     "iopub.execute_input": "2022-07-14T05:31:09.610559Z",
     "iopub.status.busy": "2022-07-14T05:31:09.610143Z",
     "iopub.status.idle": "2022-07-14T05:31:09.614100Z",
     "shell.execute_reply": "2022-07-14T05:31:09.613299Z"
    },
    "papermill": {
     "duration": 0.017199,
     "end_time": "2022-07-14T05:31:09.615794",
     "exception": false,
     "start_time": "2022-07-14T05:31:09.598595",
     "status": "completed"
    },
    "tags": []
   },
   "outputs": [],
   "source": [
    "qf.add_volume()"
   ]
  },
  {
   "cell_type": "code",
   "execution_count": 9,
   "id": "ee8b2502",
   "metadata": {
    "execution": {
     "iopub.execute_input": "2022-07-14T05:31:09.637106Z",
     "iopub.status.busy": "2022-07-14T05:31:09.636668Z",
     "iopub.status.idle": "2022-07-14T05:31:09.641570Z",
     "shell.execute_reply": "2022-07-14T05:31:09.640720Z"
    },
    "papermill": {
     "duration": 0.017567,
     "end_time": "2022-07-14T05:31:09.643555",
     "exception": false,
     "start_time": "2022-07-14T05:31:09.625988",
     "status": "completed"
    },
    "tags": []
   },
   "outputs": [],
   "source": [
    "qf.add_sma(periods=10)"
   ]
  },
  {
   "cell_type": "code",
   "execution_count": 10,
   "id": "59e1ec56",
   "metadata": {
    "execution": {
     "iopub.execute_input": "2022-07-14T05:31:09.665278Z",
     "iopub.status.busy": "2022-07-14T05:31:09.664087Z",
     "iopub.status.idle": "2022-07-14T05:31:09.830225Z",
     "shell.execute_reply": "2022-07-14T05:31:09.828966Z"
    },
    "papermill": {
     "duration": 0.17999,
     "end_time": "2022-07-14T05:31:09.833059",
     "exception": false,
     "start_time": "2022-07-14T05:31:09.653069",
     "status": "completed"
    },
    "tags": []
   },
   "outputs": [
    {
     "data": {
      "application/vnd.plotly.v1+json": {
       "config": {
        "linkText": "Export to plot.ly",
        "plotlyServerURL": "https://plot.ly",
        "showLink": true
       },
       "data": [
        {
         "marker": {
          "color": [
           "#808080",
           "#808080",
           "#17BECF",
           "#808080",
           "#17BECF",
           "#17BECF",
           "#17BECF",
           "#17BECF",
           "#17BECF",
           "#808080",
           "#17BECF",
           "#808080",
           "#808080",
           "#17BECF",
           "#17BECF",
           "#808080",
           "#808080",
           "#17BECF",
           "#808080",
           "#808080",
           "#808080",
           "#17BECF",
           "#808080",
           "#17BECF",
           "#808080",
           "#17BECF",
           "#17BECF",
           "#808080",
           "#808080",
           "#17BECF",
           "#808080",
           "#808080",
           "#17BECF",
           "#17BECF",
           "#808080",
           "#17BECF",
           "#808080",
           "#17BECF",
           "#17BECF",
           "#808080",
           "#17BECF",
           "#808080",
           "#17BECF",
           "#17BECF",
           "#808080",
           "#808080",
           "#17BECF",
           "#17BECF",
           "#808080",
           "#17BECF",
           "#808080",
           "#808080",
           "#17BECF",
           "#808080",
           "#808080",
           "#808080",
           "#17BECF",
           "#17BECF",
           "#808080",
           "#17BECF",
           "#808080",
           "#808080",
           "#808080",
           "#17BECF"
          ],
          "line": {
           "color": [
            "#808080",
            "#808080",
            "#17BECF",
            "#808080",
            "#17BECF",
            "#17BECF",
            "#17BECF",
            "#17BECF",
            "#17BECF",
            "#808080",
            "#17BECF",
            "#808080",
            "#808080",
            "#17BECF",
            "#17BECF",
            "#808080",
            "#808080",
            "#17BECF",
            "#808080",
            "#808080",
            "#808080",
            "#17BECF",
            "#808080",
            "#17BECF",
            "#808080",
            "#17BECF",
            "#17BECF",
            "#808080",
            "#808080",
            "#17BECF",
            "#808080",
            "#808080",
            "#17BECF",
            "#17BECF",
            "#808080",
            "#17BECF",
            "#808080",
            "#17BECF",
            "#17BECF",
            "#808080",
            "#17BECF",
            "#808080",
            "#17BECF",
            "#17BECF",
            "#808080",
            "#808080",
            "#17BECF",
            "#17BECF",
            "#808080",
            "#17BECF",
            "#808080",
            "#808080",
            "#17BECF",
            "#808080",
            "#808080",
            "#808080",
            "#17BECF",
            "#17BECF",
            "#808080",
            "#17BECF",
            "#808080",
            "#808080",
            "#808080",
            "#17BECF"
           ],
           "width": 1
          }
         },
         "name": "Volume",
         "opacity": 0.8,
         "orientation": "v",
         "text": "",
         "type": "bar",
         "x": [
          "2021-10-01",
          "2021-10-04",
          "2021-10-05",
          "2021-10-06",
          "2021-10-07",
          "2021-10-08",
          "2021-10-11",
          "2021-10-12",
          "2021-10-13",
          "2021-10-14",
          "2021-10-15",
          "2021-10-18",
          "2021-10-19",
          "2021-10-20",
          "2021-10-21",
          "2021-10-22",
          "2021-10-25",
          "2021-10-26",
          "2021-10-27",
          "2021-10-28",
          "2021-10-29",
          "2021-11-01",
          "2021-11-02",
          "2021-11-03",
          "2021-11-04",
          "2021-11-05",
          "2021-11-08",
          "2021-11-09",
          "2021-11-10",
          "2021-11-11",
          "2021-11-12",
          "2021-11-15",
          "2021-11-16",
          "2021-11-17",
          "2021-11-18",
          "2021-11-19",
          "2021-11-22",
          "2021-11-23",
          "2021-11-24",
          "2021-11-26",
          "2021-11-29",
          "2021-11-30",
          "2021-12-01",
          "2021-12-02",
          "2021-12-03",
          "2021-12-06",
          "2021-12-07",
          "2021-12-08",
          "2021-12-09",
          "2021-12-10",
          "2021-12-13",
          "2021-12-14",
          "2021-12-15",
          "2021-12-16",
          "2021-12-17",
          "2021-12-20",
          "2021-12-21",
          "2021-12-22",
          "2021-12-23",
          "2021-12-27",
          "2021-12-28",
          "2021-12-29",
          "2021-12-30",
          "2021-12-31"
         ],
         "y": [
          687800.0,
          1134800.0,
          897500.0,
          1666500.0,
          4969500.0,
          4366500.0,
          2851000.0,
          6394200.0,
          7337100.0,
          3622100.0,
          4529400.0,
          2139500.0,
          2679100.0,
          2526400.0,
          1663500.0,
          1344100.0,
          1255900.0,
          3200600.0,
          2306000.0,
          2015500.0,
          1807000.0,
          2391000.0,
          1960400.0,
          1417400.0,
          991700.0,
          1075000.0,
          1768700.0,
          1645600.0,
          1973700.0,
          1061600.0,
          1025200.0,
          954600.0,
          1645000.0,
          1308800.0,
          1614000.0,
          1083400.0,
          2449100.0,
          1181600.0,
          923800.0,
          985200.0,
          1293400.0,
          1143600.0,
          1823100.0,
          1444400.0,
          810100.0,
          2259500.0,
          1042600.0,
          752500.0,
          904100.0,
          474500.0,
          694300.0,
          1928500.0,
          1219400.0,
          856400.0,
          1178100.0,
          1214400.0,
          686400.0,
          404900.0,
          480300.0,
          678100.0,
          2110400.0,
          346900.0,
          481700.0,
          508400.0
         ],
         "yaxis": "y3"
        },
        {
         "line": {
          "color": "rgba(55, 128, 191, 1.0)",
          "dash": "solid",
          "shape": "linear",
          "width": 1.3
         },
         "mode": "lines",
         "name": " SMA(10)",
         "text": "",
         "type": "scatter",
         "x": [
          "2021-10-01",
          "2021-10-04",
          "2021-10-05",
          "2021-10-06",
          "2021-10-07",
          "2021-10-08",
          "2021-10-11",
          "2021-10-12",
          "2021-10-13",
          "2021-10-14",
          "2021-10-15",
          "2021-10-18",
          "2021-10-19",
          "2021-10-20",
          "2021-10-21",
          "2021-10-22",
          "2021-10-25",
          "2021-10-26",
          "2021-10-27",
          "2021-10-28",
          "2021-10-29",
          "2021-11-01",
          "2021-11-02",
          "2021-11-03",
          "2021-11-04",
          "2021-11-05",
          "2021-11-08",
          "2021-11-09",
          "2021-11-10",
          "2021-11-11",
          "2021-11-12",
          "2021-11-15",
          "2021-11-16",
          "2021-11-17",
          "2021-11-18",
          "2021-11-19",
          "2021-11-22",
          "2021-11-23",
          "2021-11-24",
          "2021-11-26",
          "2021-11-29",
          "2021-11-30",
          "2021-12-01",
          "2021-12-02",
          "2021-12-03",
          "2021-12-06",
          "2021-12-07",
          "2021-12-08",
          "2021-12-09",
          "2021-12-10",
          "2021-12-13",
          "2021-12-14",
          "2021-12-15",
          "2021-12-16",
          "2021-12-17",
          "2021-12-20",
          "2021-12-21",
          "2021-12-22",
          "2021-12-23",
          "2021-12-27",
          "2021-12-28",
          "2021-12-29",
          "2021-12-30",
          "2021-12-31"
         ],
         "y": [
          "",
          "",
          "",
          "",
          "",
          "",
          "",
          "",
          "",
          27.09400005340576,
          28.23499984741211,
          29.342000007629395,
          30.229000091552734,
          31.2310001373291,
          32.013000106811525,
          32.60500011444092,
          33.01900024414063,
          33.168000030517575,
          32.984000015258786,
          32.795000076293945,
          32.53400020599365,
          32.50799999237061,
          32.48500003814697,
          32.53700008392334,
          32.42800006866455,
          32.476999855041505,
          32.66499996185303,
          32.709000205993654,
          32.81900005340576,
          32.973999977111816,
          33.172999954223634,
          33.17700004577637,
          33.46599998474121,
          33.67199974060058,
          33.737999725341794,
          33.80699996948242,
          33.62299995422363,
          33.545999908447264,
          33.488000106811526,
          33.16500015258789,
          32.90400009155273,
          32.601000213623045,
          32.263000297546384,
          31.966000366210938,
          31.79700050354004,
          31.53200035095215,
          31.49300022125244,
          31.47000026702881,
          31.396000099182128,
          31.635000038146973,
          31.734000205993652,
          31.84900016784668,
          31.936000251770018,
          31.90200023651123,
          31.788000106811523,
          31.655000114440917,
          31.507999992370607,
          31.39699993133545,
          31.30399990081787,
          31.20699996948242,
          31.183999824523926,
          31.16999969482422,
          31.087999534606933,
          31.133999633789063
         ],
         "yaxis": "y2"
        },
        {
         "close": [
          22.780000686645508,
          22.719999313354492,
          23.1299991607666,
          22.34000015258789,
          25.75,
          26.350000381469727,
          28.059999465942383,
          31.68000030517578,
          34.20000076293945,
          33.93000030517578,
          34.189998626708984,
          33.790000915527344,
          32.0,
          32.36000061035156,
          33.56999969482422,
          32.27000045776367,
          32.20000076293945,
          33.16999816894531,
          32.36000061035156,
          32.040000915527344,
          31.579999923706055,
          33.529998779296875,
          31.770000457763672,
          32.880001068115234,
          32.47999954223633,
          32.7599983215332,
          34.08000183105469,
          33.61000061035156,
          33.459999084472656,
          33.59000015258789,
          33.56999969482422,
          33.56999969482422,
          34.65999984741211,
          34.939998626708984,
          33.13999938964844,
          33.45000076293945,
          32.2400016784668,
          32.84000015258789,
          32.880001068115234,
          30.360000610351562,
          30.959999084472656,
          30.540000915527344,
          31.280000686645508,
          31.969999313354492,
          31.450000762939453,
          30.799999237060547,
          31.850000381469727,
          32.61000061035156,
          32.13999938964844,
          32.75,
          31.950000762939453,
          31.690000534057617,
          32.150001525878906,
          31.6299991607666,
          30.309999465942383,
          29.469999313354492,
          30.3799991607666,
          31.5,
          31.209999084472656,
          31.780000686645508,
          31.719999313354492,
          31.549999237060547,
          31.329999923706055,
          32.09000015258789
         ],
         "decreasing": {
          "line": {
           "color": "#808080"
          }
         },
         "high": [
          22.899999618530273,
          23.200000762939453,
          23.200000762939453,
          22.469999313354492,
          25.899999618530273,
          26.350000381469727,
          28.40999984741211,
          32.0,
          34.400001525878906,
          34.13999938964844,
          34.529998779296875,
          34.43000030517578,
          32.439998626708984,
          32.630001068115234,
          33.84000015258789,
          32.689998626708984,
          32.470001220703125,
          33.81999969482422,
          32.86000061035156,
          32.31999969482422,
          32.099998474121094,
          33.939998626708984,
          32.70000076293945,
          32.91999816894531,
          32.77000045776367,
          33.029998779296875,
          34.33000183105469,
          34.36000061035156,
          34.709999084472656,
          33.86000061035156,
          33.72999954223633,
          33.97999954223633,
          34.939998626708984,
          35.380001068115234,
          33.790000915527344,
          33.59000015258789,
          32.790000915527344,
          33.16999816894531,
          32.900001525878906,
          30.549999237060547,
          30.989999771118164,
          30.969999313354492,
          32.209999084472656,
          32.209999084472656,
          32.060001373291016,
          31.049999237060547,
          32.150001525878906,
          32.880001068115234,
          32.61000061035156,
          32.810001373291016,
          32.459999084472656,
          31.969999313354492,
          32.18000030517578,
          32.29999923706055,
          30.770000457763672,
          29.56999969482422,
          30.43000030517578,
          31.520000457763672,
          31.420000076293945,
          31.790000915527344,
          32.08000183105469,
          31.65999984741211,
          31.65999984741211,
          32.369998931884766
         ],
         "increasing": {
          "line": {
           "color": "#17BECF"
          }
         },
         "low": [
          22.479999542236328,
          22.65999984741211,
          22.969999313354492,
          22.110000610351562,
          24.610000610351562,
          25.639999389648438,
          27.34000015258789,
          29.479999542236328,
          32.52000045776367,
          32.58000183105469,
          33.869998931884766,
          33.630001068115234,
          31.700000762939453,
          32.18000030517578,
          33.290000915527344,
          31.940000534057617,
          32.029998779296875,
          33.04999923706055,
          32.25,
          31.700000762939453,
          31.479999542236328,
          32.709999084472656,
          31.610000610351562,
          31.719999313354492,
          32.38999938964844,
          32.59000015258789,
          33.52000045776367,
          33.20000076293945,
          33.25,
          33.33000183105469,
          33.36000061035156,
          33.34000015258789,
          34.36000061035156,
          34.90999984741211,
          32.5099983215332,
          32.900001525878906,
          31.8700008392334,
          32.4900016784668,
          32.130001068115234,
          30.020000457763672,
          30.270000457763672,
          30.309999465942383,
          31.25,
          31.56999969482422,
          31.09000015258789,
          30.350000381469727,
          31.719999313354492,
          32.400001525878906,
          32.09000015258789,
          32.369998931884766,
          31.690000534057617,
          31.40999984741211,
          31.299999237060547,
          31.549999237060547,
          30.030000686645508,
          28.8700008392334,
          29.8799991607666,
          30.889999389648438,
          31.100000381469727,
          31.15999984741211,
          31.600000381469727,
          31.450000762939453,
          31.309999465942383,
          32.04999923706055
         ],
         "name": "Trace 1",
         "open": [
          22.5,
          23.149999618530273,
          22.979999542236328,
          22.219999313354492,
          24.6200008392334,
          25.639999389648438,
          27.670000076293945,
          29.5,
          32.849998474121094,
          32.9900016784668,
          33.97999954223633,
          34.13999938964844,
          32.439998626708984,
          32.4900016784668,
          33.56999969482422,
          32.599998474121094,
          32.099998474121094,
          33.779998779296875,
          32.790000915527344,
          31.729999542236328,
          32.0,
          32.7599983215332,
          32.439998626708984,
          31.729999542236328,
          32.709999084472656,
          32.779998779296875,
          33.63999938964844,
          34.290000915527344,
          33.90999984741211,
          33.41999816894531,
          33.689998626708984,
          33.58000183105469,
          34.4900016784668,
          35.099998474121094,
          33.7400016784668,
          32.9900016784668,
          32.31999969482422,
          32.900001525878906,
          32.29999923706055,
          30.149999618530273,
          30.700000762939453,
          30.719999313354492,
          31.959999084472656,
          31.829999923706055,
          32.0,
          31.0,
          31.979999542236328,
          32.5,
          32.4900016784668,
          32.619998931884766,
          32.2400016784668,
          31.709999084472656,
          31.940000534057617,
          32.18000030517578,
          30.15999984741211,
          29.239999771118164,
          29.8799991607666,
          30.93000030517578,
          31.15999984741211,
          31.190000534057617,
          32.08000183105469,
          31.600000381469727,
          31.530000686645508,
          32.18000030517578
         ],
         "showlegend": true,
         "type": "candlestick",
         "x": [
          "2021-10-01",
          "2021-10-04",
          "2021-10-05",
          "2021-10-06",
          "2021-10-07",
          "2021-10-08",
          "2021-10-11",
          "2021-10-12",
          "2021-10-13",
          "2021-10-14",
          "2021-10-15",
          "2021-10-18",
          "2021-10-19",
          "2021-10-20",
          "2021-10-21",
          "2021-10-22",
          "2021-10-25",
          "2021-10-26",
          "2021-10-27",
          "2021-10-28",
          "2021-10-29",
          "2021-11-01",
          "2021-11-02",
          "2021-11-03",
          "2021-11-04",
          "2021-11-05",
          "2021-11-08",
          "2021-11-09",
          "2021-11-10",
          "2021-11-11",
          "2021-11-12",
          "2021-11-15",
          "2021-11-16",
          "2021-11-17",
          "2021-11-18",
          "2021-11-19",
          "2021-11-22",
          "2021-11-23",
          "2021-11-24",
          "2021-11-26",
          "2021-11-29",
          "2021-11-30",
          "2021-12-01",
          "2021-12-02",
          "2021-12-03",
          "2021-12-06",
          "2021-12-07",
          "2021-12-08",
          "2021-12-09",
          "2021-12-10",
          "2021-12-13",
          "2021-12-14",
          "2021-12-15",
          "2021-12-16",
          "2021-12-17",
          "2021-12-20",
          "2021-12-21",
          "2021-12-22",
          "2021-12-23",
          "2021-12-27",
          "2021-12-28",
          "2021-12-29",
          "2021-12-30",
          "2021-12-31"
         ],
         "yaxis": "y2"
        }
       ],
       "layout": {
        "legend": {
         "bgcolor": "#F5F6F9",
         "font": {
          "color": "#4D5663"
         }
        },
        "margin": {
         "b": 30,
         "l": 30,
         "r": 30,
         "t": 30
        },
        "paper_bgcolor": "#F5F6F9",
        "plot_bgcolor": "#F5F6F9",
        "showlegend": true,
        "template": {
         "data": {
          "bar": [
           {
            "error_x": {
             "color": "#2a3f5f"
            },
            "error_y": {
             "color": "#2a3f5f"
            },
            "marker": {
             "line": {
              "color": "#E5ECF6",
              "width": 0.5
             },
             "pattern": {
              "fillmode": "overlay",
              "size": 10,
              "solidity": 0.2
             }
            },
            "type": "bar"
           }
          ],
          "barpolar": [
           {
            "marker": {
             "line": {
              "color": "#E5ECF6",
              "width": 0.5
             },
             "pattern": {
              "fillmode": "overlay",
              "size": 10,
              "solidity": 0.2
             }
            },
            "type": "barpolar"
           }
          ],
          "carpet": [
           {
            "aaxis": {
             "endlinecolor": "#2a3f5f",
             "gridcolor": "white",
             "linecolor": "white",
             "minorgridcolor": "white",
             "startlinecolor": "#2a3f5f"
            },
            "baxis": {
             "endlinecolor": "#2a3f5f",
             "gridcolor": "white",
             "linecolor": "white",
             "minorgridcolor": "white",
             "startlinecolor": "#2a3f5f"
            },
            "type": "carpet"
           }
          ],
          "choropleth": [
           {
            "colorbar": {
             "outlinewidth": 0,
             "ticks": ""
            },
            "type": "choropleth"
           }
          ],
          "contour": [
           {
            "colorbar": {
             "outlinewidth": 0,
             "ticks": ""
            },
            "colorscale": [
             [
              0.0,
              "#0d0887"
             ],
             [
              0.1111111111111111,
              "#46039f"
             ],
             [
              0.2222222222222222,
              "#7201a8"
             ],
             [
              0.3333333333333333,
              "#9c179e"
             ],
             [
              0.4444444444444444,
              "#bd3786"
             ],
             [
              0.5555555555555556,
              "#d8576b"
             ],
             [
              0.6666666666666666,
              "#ed7953"
             ],
             [
              0.7777777777777778,
              "#fb9f3a"
             ],
             [
              0.8888888888888888,
              "#fdca26"
             ],
             [
              1.0,
              "#f0f921"
             ]
            ],
            "type": "contour"
           }
          ],
          "contourcarpet": [
           {
            "colorbar": {
             "outlinewidth": 0,
             "ticks": ""
            },
            "type": "contourcarpet"
           }
          ],
          "heatmap": [
           {
            "colorbar": {
             "outlinewidth": 0,
             "ticks": ""
            },
            "colorscale": [
             [
              0.0,
              "#0d0887"
             ],
             [
              0.1111111111111111,
              "#46039f"
             ],
             [
              0.2222222222222222,
              "#7201a8"
             ],
             [
              0.3333333333333333,
              "#9c179e"
             ],
             [
              0.4444444444444444,
              "#bd3786"
             ],
             [
              0.5555555555555556,
              "#d8576b"
             ],
             [
              0.6666666666666666,
              "#ed7953"
             ],
             [
              0.7777777777777778,
              "#fb9f3a"
             ],
             [
              0.8888888888888888,
              "#fdca26"
             ],
             [
              1.0,
              "#f0f921"
             ]
            ],
            "type": "heatmap"
           }
          ],
          "heatmapgl": [
           {
            "colorbar": {
             "outlinewidth": 0,
             "ticks": ""
            },
            "colorscale": [
             [
              0.0,
              "#0d0887"
             ],
             [
              0.1111111111111111,
              "#46039f"
             ],
             [
              0.2222222222222222,
              "#7201a8"
             ],
             [
              0.3333333333333333,
              "#9c179e"
             ],
             [
              0.4444444444444444,
              "#bd3786"
             ],
             [
              0.5555555555555556,
              "#d8576b"
             ],
             [
              0.6666666666666666,
              "#ed7953"
             ],
             [
              0.7777777777777778,
              "#fb9f3a"
             ],
             [
              0.8888888888888888,
              "#fdca26"
             ],
             [
              1.0,
              "#f0f921"
             ]
            ],
            "type": "heatmapgl"
           }
          ],
          "histogram": [
           {
            "marker": {
             "pattern": {
              "fillmode": "overlay",
              "size": 10,
              "solidity": 0.2
             }
            },
            "type": "histogram"
           }
          ],
          "histogram2d": [
           {
            "colorbar": {
             "outlinewidth": 0,
             "ticks": ""
            },
            "colorscale": [
             [
              0.0,
              "#0d0887"
             ],
             [
              0.1111111111111111,
              "#46039f"
             ],
             [
              0.2222222222222222,
              "#7201a8"
             ],
             [
              0.3333333333333333,
              "#9c179e"
             ],
             [
              0.4444444444444444,
              "#bd3786"
             ],
             [
              0.5555555555555556,
              "#d8576b"
             ],
             [
              0.6666666666666666,
              "#ed7953"
             ],
             [
              0.7777777777777778,
              "#fb9f3a"
             ],
             [
              0.8888888888888888,
              "#fdca26"
             ],
             [
              1.0,
              "#f0f921"
             ]
            ],
            "type": "histogram2d"
           }
          ],
          "histogram2dcontour": [
           {
            "colorbar": {
             "outlinewidth": 0,
             "ticks": ""
            },
            "colorscale": [
             [
              0.0,
              "#0d0887"
             ],
             [
              0.1111111111111111,
              "#46039f"
             ],
             [
              0.2222222222222222,
              "#7201a8"
             ],
             [
              0.3333333333333333,
              "#9c179e"
             ],
             [
              0.4444444444444444,
              "#bd3786"
             ],
             [
              0.5555555555555556,
              "#d8576b"
             ],
             [
              0.6666666666666666,
              "#ed7953"
             ],
             [
              0.7777777777777778,
              "#fb9f3a"
             ],
             [
              0.8888888888888888,
              "#fdca26"
             ],
             [
              1.0,
              "#f0f921"
             ]
            ],
            "type": "histogram2dcontour"
           }
          ],
          "mesh3d": [
           {
            "colorbar": {
             "outlinewidth": 0,
             "ticks": ""
            },
            "type": "mesh3d"
           }
          ],
          "parcoords": [
           {
            "line": {
             "colorbar": {
              "outlinewidth": 0,
              "ticks": ""
             }
            },
            "type": "parcoords"
           }
          ],
          "pie": [
           {
            "automargin": true,
            "type": "pie"
           }
          ],
          "scatter": [
           {
            "fillpattern": {
             "fillmode": "overlay",
             "size": 10,
             "solidity": 0.2
            },
            "type": "scatter"
           }
          ],
          "scatter3d": [
           {
            "line": {
             "colorbar": {
              "outlinewidth": 0,
              "ticks": ""
             }
            },
            "marker": {
             "colorbar": {
              "outlinewidth": 0,
              "ticks": ""
             }
            },
            "type": "scatter3d"
           }
          ],
          "scattercarpet": [
           {
            "marker": {
             "colorbar": {
              "outlinewidth": 0,
              "ticks": ""
             }
            },
            "type": "scattercarpet"
           }
          ],
          "scattergeo": [
           {
            "marker": {
             "colorbar": {
              "outlinewidth": 0,
              "ticks": ""
             }
            },
            "type": "scattergeo"
           }
          ],
          "scattergl": [
           {
            "marker": {
             "colorbar": {
              "outlinewidth": 0,
              "ticks": ""
             }
            },
            "type": "scattergl"
           }
          ],
          "scattermapbox": [
           {
            "marker": {
             "colorbar": {
              "outlinewidth": 0,
              "ticks": ""
             }
            },
            "type": "scattermapbox"
           }
          ],
          "scatterpolar": [
           {
            "marker": {
             "colorbar": {
              "outlinewidth": 0,
              "ticks": ""
             }
            },
            "type": "scatterpolar"
           }
          ],
          "scatterpolargl": [
           {
            "marker": {
             "colorbar": {
              "outlinewidth": 0,
              "ticks": ""
             }
            },
            "type": "scatterpolargl"
           }
          ],
          "scatterternary": [
           {
            "marker": {
             "colorbar": {
              "outlinewidth": 0,
              "ticks": ""
             }
            },
            "type": "scatterternary"
           }
          ],
          "surface": [
           {
            "colorbar": {
             "outlinewidth": 0,
             "ticks": ""
            },
            "colorscale": [
             [
              0.0,
              "#0d0887"
             ],
             [
              0.1111111111111111,
              "#46039f"
             ],
             [
              0.2222222222222222,
              "#7201a8"
             ],
             [
              0.3333333333333333,
              "#9c179e"
             ],
             [
              0.4444444444444444,
              "#bd3786"
             ],
             [
              0.5555555555555556,
              "#d8576b"
             ],
             [
              0.6666666666666666,
              "#ed7953"
             ],
             [
              0.7777777777777778,
              "#fb9f3a"
             ],
             [
              0.8888888888888888,
              "#fdca26"
             ],
             [
              1.0,
              "#f0f921"
             ]
            ],
            "type": "surface"
           }
          ],
          "table": [
           {
            "cells": {
             "fill": {
              "color": "#EBF0F8"
             },
             "line": {
              "color": "white"
             }
            },
            "header": {
             "fill": {
              "color": "#C8D4E3"
             },
             "line": {
              "color": "white"
             }
            },
            "type": "table"
           }
          ]
         },
         "layout": {
          "annotationdefaults": {
           "arrowcolor": "#2a3f5f",
           "arrowhead": 0,
           "arrowwidth": 1
          },
          "autotypenumbers": "strict",
          "coloraxis": {
           "colorbar": {
            "outlinewidth": 0,
            "ticks": ""
           }
          },
          "colorscale": {
           "diverging": [
            [
             0,
             "#8e0152"
            ],
            [
             0.1,
             "#c51b7d"
            ],
            [
             0.2,
             "#de77ae"
            ],
            [
             0.3,
             "#f1b6da"
            ],
            [
             0.4,
             "#fde0ef"
            ],
            [
             0.5,
             "#f7f7f7"
            ],
            [
             0.6,
             "#e6f5d0"
            ],
            [
             0.7,
             "#b8e186"
            ],
            [
             0.8,
             "#7fbc41"
            ],
            [
             0.9,
             "#4d9221"
            ],
            [
             1,
             "#276419"
            ]
           ],
           "sequential": [
            [
             0.0,
             "#0d0887"
            ],
            [
             0.1111111111111111,
             "#46039f"
            ],
            [
             0.2222222222222222,
             "#7201a8"
            ],
            [
             0.3333333333333333,
             "#9c179e"
            ],
            [
             0.4444444444444444,
             "#bd3786"
            ],
            [
             0.5555555555555556,
             "#d8576b"
            ],
            [
             0.6666666666666666,
             "#ed7953"
            ],
            [
             0.7777777777777778,
             "#fb9f3a"
            ],
            [
             0.8888888888888888,
             "#fdca26"
            ],
            [
             1.0,
             "#f0f921"
            ]
           ],
           "sequentialminus": [
            [
             0.0,
             "#0d0887"
            ],
            [
             0.1111111111111111,
             "#46039f"
            ],
            [
             0.2222222222222222,
             "#7201a8"
            ],
            [
             0.3333333333333333,
             "#9c179e"
            ],
            [
             0.4444444444444444,
             "#bd3786"
            ],
            [
             0.5555555555555556,
             "#d8576b"
            ],
            [
             0.6666666666666666,
             "#ed7953"
            ],
            [
             0.7777777777777778,
             "#fb9f3a"
            ],
            [
             0.8888888888888888,
             "#fdca26"
            ],
            [
             1.0,
             "#f0f921"
            ]
           ]
          },
          "colorway": [
           "#636efa",
           "#EF553B",
           "#00cc96",
           "#ab63fa",
           "#FFA15A",
           "#19d3f3",
           "#FF6692",
           "#B6E880",
           "#FF97FF",
           "#FECB52"
          ],
          "font": {
           "color": "#2a3f5f"
          },
          "geo": {
           "bgcolor": "white",
           "lakecolor": "white",
           "landcolor": "#E5ECF6",
           "showlakes": true,
           "showland": true,
           "subunitcolor": "white"
          },
          "hoverlabel": {
           "align": "left"
          },
          "hovermode": "closest",
          "mapbox": {
           "style": "light"
          },
          "paper_bgcolor": "white",
          "plot_bgcolor": "#E5ECF6",
          "polar": {
           "angularaxis": {
            "gridcolor": "white",
            "linecolor": "white",
            "ticks": ""
           },
           "bgcolor": "#E5ECF6",
           "radialaxis": {
            "gridcolor": "white",
            "linecolor": "white",
            "ticks": ""
           }
          },
          "scene": {
           "xaxis": {
            "backgroundcolor": "#E5ECF6",
            "gridcolor": "white",
            "gridwidth": 2,
            "linecolor": "white",
            "showbackground": true,
            "ticks": "",
            "zerolinecolor": "white"
           },
           "yaxis": {
            "backgroundcolor": "#E5ECF6",
            "gridcolor": "white",
            "gridwidth": 2,
            "linecolor": "white",
            "showbackground": true,
            "ticks": "",
            "zerolinecolor": "white"
           },
           "zaxis": {
            "backgroundcolor": "#E5ECF6",
            "gridcolor": "white",
            "gridwidth": 2,
            "linecolor": "white",
            "showbackground": true,
            "ticks": "",
            "zerolinecolor": "white"
           }
          },
          "shapedefaults": {
           "line": {
            "color": "#2a3f5f"
           }
          },
          "ternary": {
           "aaxis": {
            "gridcolor": "white",
            "linecolor": "white",
            "ticks": ""
           },
           "baxis": {
            "gridcolor": "white",
            "linecolor": "white",
            "ticks": ""
           },
           "bgcolor": "#E5ECF6",
           "caxis": {
            "gridcolor": "white",
            "linecolor": "white",
            "ticks": ""
           }
          },
          "title": {
           "x": 0.05
          },
          "xaxis": {
           "automargin": true,
           "gridcolor": "white",
           "linecolor": "white",
           "ticks": "",
           "title": {
            "standoff": 15
           },
           "zerolinecolor": "white",
           "zerolinewidth": 2
          },
          "yaxis": {
           "automargin": true,
           "gridcolor": "white",
           "linecolor": "white",
           "ticks": "",
           "title": {
            "standoff": 15
           },
           "zerolinecolor": "white",
           "zerolinewidth": 2
          }
         }
        },
        "title": {
         "font": {
          "color": "#4D5663"
         }
        },
        "xaxis": {
         "anchor": "y2",
         "gridcolor": "#E1E5ED",
         "rangeselector": {
          "bgcolor": "rgba(150, 200, 250, 1)",
          "buttons": [
           {
            "count": 1,
            "label": "1m",
            "step": "month",
            "stepmode": "backward"
           },
           {
            "count": 1,
            "label": "1y",
            "step": "year",
            "stepmode": "backward"
           }
          ],
          "font": {
           "size": 13
          },
          "visible": false,
          "x": 0,
          "y": 0.9
         },
         "rangeslider": {
          "visible": false
         },
         "showgrid": true,
         "tickfont": {
          "color": "#4D5663"
         },
         "title": {
          "font": {
           "color": "#4D5663"
          },
          "text": ""
         },
         "zerolinecolor": "#E1E5ED"
        },
        "yaxis": {
         "gridcolor": "#E1E5ED",
         "showgrid": true,
         "showticklabels": false,
         "tickfont": {
          "color": "#4D5663"
         },
         "title": {
          "font": {
           "color": "#4D5663"
          },
          "text": ""
         },
         "zerolinecolor": "#E1E5ED"
        },
        "yaxis2": {
         "domain": [
          0.23,
          0.9
         ],
         "gridcolor": "#E1E5ED",
         "showgrid": true,
         "tickfont": {
          "color": "#4D5663"
         },
         "title": {
          "font": {
           "color": "#4D5663"
          },
          "text": ""
         },
         "zerolinecolor": "#E1E5ED"
        },
        "yaxis3": {
         "domain": [
          0.0,
          0.15
         ],
         "gridcolor": "#E1E5ED",
         "showgrid": true,
         "tickfont": {
          "color": "#4D5663"
         },
         "title": {
          "font": {
           "color": "#4D5663"
          },
          "text": ""
         },
         "zerolinecolor": "#E1E5ED"
        }
       }
      },
      "text/html": [
       "<div>                            <div id=\"8a4175be-efcd-4b6d-b63b-9a9f2d8fef57\" class=\"plotly-graph-div\" style=\"height:525px; width:100%;\"></div>            <script type=\"text/javascript\">                require([\"plotly\"], function(Plotly) {                    window.PLOTLYENV=window.PLOTLYENV || {};\n",
       "                    window.PLOTLYENV.BASE_URL='https://plot.ly';                                    if (document.getElementById(\"8a4175be-efcd-4b6d-b63b-9a9f2d8fef57\")) {                    Plotly.newPlot(                        \"8a4175be-efcd-4b6d-b63b-9a9f2d8fef57\",                        [{\"marker\":{\"color\":[\"#808080\",\"#808080\",\"#17BECF\",\"#808080\",\"#17BECF\",\"#17BECF\",\"#17BECF\",\"#17BECF\",\"#17BECF\",\"#808080\",\"#17BECF\",\"#808080\",\"#808080\",\"#17BECF\",\"#17BECF\",\"#808080\",\"#808080\",\"#17BECF\",\"#808080\",\"#808080\",\"#808080\",\"#17BECF\",\"#808080\",\"#17BECF\",\"#808080\",\"#17BECF\",\"#17BECF\",\"#808080\",\"#808080\",\"#17BECF\",\"#808080\",\"#808080\",\"#17BECF\",\"#17BECF\",\"#808080\",\"#17BECF\",\"#808080\",\"#17BECF\",\"#17BECF\",\"#808080\",\"#17BECF\",\"#808080\",\"#17BECF\",\"#17BECF\",\"#808080\",\"#808080\",\"#17BECF\",\"#17BECF\",\"#808080\",\"#17BECF\",\"#808080\",\"#808080\",\"#17BECF\",\"#808080\",\"#808080\",\"#808080\",\"#17BECF\",\"#17BECF\",\"#808080\",\"#17BECF\",\"#808080\",\"#808080\",\"#808080\",\"#17BECF\"],\"line\":{\"color\":[\"#808080\",\"#808080\",\"#17BECF\",\"#808080\",\"#17BECF\",\"#17BECF\",\"#17BECF\",\"#17BECF\",\"#17BECF\",\"#808080\",\"#17BECF\",\"#808080\",\"#808080\",\"#17BECF\",\"#17BECF\",\"#808080\",\"#808080\",\"#17BECF\",\"#808080\",\"#808080\",\"#808080\",\"#17BECF\",\"#808080\",\"#17BECF\",\"#808080\",\"#17BECF\",\"#17BECF\",\"#808080\",\"#808080\",\"#17BECF\",\"#808080\",\"#808080\",\"#17BECF\",\"#17BECF\",\"#808080\",\"#17BECF\",\"#808080\",\"#17BECF\",\"#17BECF\",\"#808080\",\"#17BECF\",\"#808080\",\"#17BECF\",\"#17BECF\",\"#808080\",\"#808080\",\"#17BECF\",\"#17BECF\",\"#808080\",\"#17BECF\",\"#808080\",\"#808080\",\"#17BECF\",\"#808080\",\"#808080\",\"#808080\",\"#17BECF\",\"#17BECF\",\"#808080\",\"#17BECF\",\"#808080\",\"#808080\",\"#808080\",\"#17BECF\"],\"width\":1}},\"name\":\"Volume\",\"opacity\":0.8,\"orientation\":\"v\",\"text\":\"\",\"x\":[\"2021-10-01\",\"2021-10-04\",\"2021-10-05\",\"2021-10-06\",\"2021-10-07\",\"2021-10-08\",\"2021-10-11\",\"2021-10-12\",\"2021-10-13\",\"2021-10-14\",\"2021-10-15\",\"2021-10-18\",\"2021-10-19\",\"2021-10-20\",\"2021-10-21\",\"2021-10-22\",\"2021-10-25\",\"2021-10-26\",\"2021-10-27\",\"2021-10-28\",\"2021-10-29\",\"2021-11-01\",\"2021-11-02\",\"2021-11-03\",\"2021-11-04\",\"2021-11-05\",\"2021-11-08\",\"2021-11-09\",\"2021-11-10\",\"2021-11-11\",\"2021-11-12\",\"2021-11-15\",\"2021-11-16\",\"2021-11-17\",\"2021-11-18\",\"2021-11-19\",\"2021-11-22\",\"2021-11-23\",\"2021-11-24\",\"2021-11-26\",\"2021-11-29\",\"2021-11-30\",\"2021-12-01\",\"2021-12-02\",\"2021-12-03\",\"2021-12-06\",\"2021-12-07\",\"2021-12-08\",\"2021-12-09\",\"2021-12-10\",\"2021-12-13\",\"2021-12-14\",\"2021-12-15\",\"2021-12-16\",\"2021-12-17\",\"2021-12-20\",\"2021-12-21\",\"2021-12-22\",\"2021-12-23\",\"2021-12-27\",\"2021-12-28\",\"2021-12-29\",\"2021-12-30\",\"2021-12-31\"],\"y\":[687800.0,1134800.0,897500.0,1666500.0,4969500.0,4366500.0,2851000.0,6394200.0,7337100.0,3622100.0,4529400.0,2139500.0,2679100.0,2526400.0,1663500.0,1344100.0,1255900.0,3200600.0,2306000.0,2015500.0,1807000.0,2391000.0,1960400.0,1417400.0,991700.0,1075000.0,1768700.0,1645600.0,1973700.0,1061600.0,1025200.0,954600.0,1645000.0,1308800.0,1614000.0,1083400.0,2449100.0,1181600.0,923800.0,985200.0,1293400.0,1143600.0,1823100.0,1444400.0,810100.0,2259500.0,1042600.0,752500.0,904100.0,474500.0,694300.0,1928500.0,1219400.0,856400.0,1178100.0,1214400.0,686400.0,404900.0,480300.0,678100.0,2110400.0,346900.0,481700.0,508400.0],\"yaxis\":\"y3\",\"type\":\"bar\"},{\"line\":{\"color\":\"rgba(55, 128, 191, 1.0)\",\"dash\":\"solid\",\"shape\":\"linear\",\"width\":1.3},\"mode\":\"lines\",\"name\":\" SMA(10)\",\"text\":\"\",\"x\":[\"2021-10-01\",\"2021-10-04\",\"2021-10-05\",\"2021-10-06\",\"2021-10-07\",\"2021-10-08\",\"2021-10-11\",\"2021-10-12\",\"2021-10-13\",\"2021-10-14\",\"2021-10-15\",\"2021-10-18\",\"2021-10-19\",\"2021-10-20\",\"2021-10-21\",\"2021-10-22\",\"2021-10-25\",\"2021-10-26\",\"2021-10-27\",\"2021-10-28\",\"2021-10-29\",\"2021-11-01\",\"2021-11-02\",\"2021-11-03\",\"2021-11-04\",\"2021-11-05\",\"2021-11-08\",\"2021-11-09\",\"2021-11-10\",\"2021-11-11\",\"2021-11-12\",\"2021-11-15\",\"2021-11-16\",\"2021-11-17\",\"2021-11-18\",\"2021-11-19\",\"2021-11-22\",\"2021-11-23\",\"2021-11-24\",\"2021-11-26\",\"2021-11-29\",\"2021-11-30\",\"2021-12-01\",\"2021-12-02\",\"2021-12-03\",\"2021-12-06\",\"2021-12-07\",\"2021-12-08\",\"2021-12-09\",\"2021-12-10\",\"2021-12-13\",\"2021-12-14\",\"2021-12-15\",\"2021-12-16\",\"2021-12-17\",\"2021-12-20\",\"2021-12-21\",\"2021-12-22\",\"2021-12-23\",\"2021-12-27\",\"2021-12-28\",\"2021-12-29\",\"2021-12-30\",\"2021-12-31\"],\"y\":[\"\",\"\",\"\",\"\",\"\",\"\",\"\",\"\",\"\",27.09400005340576,28.23499984741211,29.342000007629395,30.229000091552734,31.2310001373291,32.013000106811525,32.60500011444092,33.01900024414063,33.168000030517575,32.984000015258786,32.795000076293945,32.53400020599365,32.50799999237061,32.48500003814697,32.53700008392334,32.42800006866455,32.476999855041505,32.66499996185303,32.709000205993654,32.81900005340576,32.973999977111816,33.172999954223634,33.17700004577637,33.46599998474121,33.67199974060058,33.737999725341794,33.80699996948242,33.62299995422363,33.545999908447264,33.488000106811526,33.16500015258789,32.90400009155273,32.601000213623045,32.263000297546384,31.966000366210938,31.79700050354004,31.53200035095215,31.49300022125244,31.47000026702881,31.396000099182128,31.635000038146973,31.734000205993652,31.84900016784668,31.936000251770018,31.90200023651123,31.788000106811523,31.655000114440917,31.507999992370607,31.39699993133545,31.30399990081787,31.20699996948242,31.183999824523926,31.16999969482422,31.087999534606933,31.133999633789063],\"yaxis\":\"y2\",\"type\":\"scatter\"},{\"close\":[22.780000686645508,22.719999313354492,23.1299991607666,22.34000015258789,25.75,26.350000381469727,28.059999465942383,31.68000030517578,34.20000076293945,33.93000030517578,34.189998626708984,33.790000915527344,32.0,32.36000061035156,33.56999969482422,32.27000045776367,32.20000076293945,33.16999816894531,32.36000061035156,32.040000915527344,31.579999923706055,33.529998779296875,31.770000457763672,32.880001068115234,32.47999954223633,32.7599983215332,34.08000183105469,33.61000061035156,33.459999084472656,33.59000015258789,33.56999969482422,33.56999969482422,34.65999984741211,34.939998626708984,33.13999938964844,33.45000076293945,32.2400016784668,32.84000015258789,32.880001068115234,30.360000610351562,30.959999084472656,30.540000915527344,31.280000686645508,31.969999313354492,31.450000762939453,30.799999237060547,31.850000381469727,32.61000061035156,32.13999938964844,32.75,31.950000762939453,31.690000534057617,32.150001525878906,31.6299991607666,30.309999465942383,29.469999313354492,30.3799991607666,31.5,31.209999084472656,31.780000686645508,31.719999313354492,31.549999237060547,31.329999923706055,32.09000015258789],\"decreasing\":{\"line\":{\"color\":\"#808080\"}},\"high\":[22.899999618530273,23.200000762939453,23.200000762939453,22.469999313354492,25.899999618530273,26.350000381469727,28.40999984741211,32.0,34.400001525878906,34.13999938964844,34.529998779296875,34.43000030517578,32.439998626708984,32.630001068115234,33.84000015258789,32.689998626708984,32.470001220703125,33.81999969482422,32.86000061035156,32.31999969482422,32.099998474121094,33.939998626708984,32.70000076293945,32.91999816894531,32.77000045776367,33.029998779296875,34.33000183105469,34.36000061035156,34.709999084472656,33.86000061035156,33.72999954223633,33.97999954223633,34.939998626708984,35.380001068115234,33.790000915527344,33.59000015258789,32.790000915527344,33.16999816894531,32.900001525878906,30.549999237060547,30.989999771118164,30.969999313354492,32.209999084472656,32.209999084472656,32.060001373291016,31.049999237060547,32.150001525878906,32.880001068115234,32.61000061035156,32.810001373291016,32.459999084472656,31.969999313354492,32.18000030517578,32.29999923706055,30.770000457763672,29.56999969482422,30.43000030517578,31.520000457763672,31.420000076293945,31.790000915527344,32.08000183105469,31.65999984741211,31.65999984741211,32.369998931884766],\"increasing\":{\"line\":{\"color\":\"#17BECF\"}},\"low\":[22.479999542236328,22.65999984741211,22.969999313354492,22.110000610351562,24.610000610351562,25.639999389648438,27.34000015258789,29.479999542236328,32.52000045776367,32.58000183105469,33.869998931884766,33.630001068115234,31.700000762939453,32.18000030517578,33.290000915527344,31.940000534057617,32.029998779296875,33.04999923706055,32.25,31.700000762939453,31.479999542236328,32.709999084472656,31.610000610351562,31.719999313354492,32.38999938964844,32.59000015258789,33.52000045776367,33.20000076293945,33.25,33.33000183105469,33.36000061035156,33.34000015258789,34.36000061035156,34.90999984741211,32.5099983215332,32.900001525878906,31.8700008392334,32.4900016784668,32.130001068115234,30.020000457763672,30.270000457763672,30.309999465942383,31.25,31.56999969482422,31.09000015258789,30.350000381469727,31.719999313354492,32.400001525878906,32.09000015258789,32.369998931884766,31.690000534057617,31.40999984741211,31.299999237060547,31.549999237060547,30.030000686645508,28.8700008392334,29.8799991607666,30.889999389648438,31.100000381469727,31.15999984741211,31.600000381469727,31.450000762939453,31.309999465942383,32.04999923706055],\"name\":\"Trace 1\",\"open\":[22.5,23.149999618530273,22.979999542236328,22.219999313354492,24.6200008392334,25.639999389648438,27.670000076293945,29.5,32.849998474121094,32.9900016784668,33.97999954223633,34.13999938964844,32.439998626708984,32.4900016784668,33.56999969482422,32.599998474121094,32.099998474121094,33.779998779296875,32.790000915527344,31.729999542236328,32.0,32.7599983215332,32.439998626708984,31.729999542236328,32.709999084472656,32.779998779296875,33.63999938964844,34.290000915527344,33.90999984741211,33.41999816894531,33.689998626708984,33.58000183105469,34.4900016784668,35.099998474121094,33.7400016784668,32.9900016784668,32.31999969482422,32.900001525878906,32.29999923706055,30.149999618530273,30.700000762939453,30.719999313354492,31.959999084472656,31.829999923706055,32.0,31.0,31.979999542236328,32.5,32.4900016784668,32.619998931884766,32.2400016784668,31.709999084472656,31.940000534057617,32.18000030517578,30.15999984741211,29.239999771118164,29.8799991607666,30.93000030517578,31.15999984741211,31.190000534057617,32.08000183105469,31.600000381469727,31.530000686645508,32.18000030517578],\"showlegend\":true,\"x\":[\"2021-10-01\",\"2021-10-04\",\"2021-10-05\",\"2021-10-06\",\"2021-10-07\",\"2021-10-08\",\"2021-10-11\",\"2021-10-12\",\"2021-10-13\",\"2021-10-14\",\"2021-10-15\",\"2021-10-18\",\"2021-10-19\",\"2021-10-20\",\"2021-10-21\",\"2021-10-22\",\"2021-10-25\",\"2021-10-26\",\"2021-10-27\",\"2021-10-28\",\"2021-10-29\",\"2021-11-01\",\"2021-11-02\",\"2021-11-03\",\"2021-11-04\",\"2021-11-05\",\"2021-11-08\",\"2021-11-09\",\"2021-11-10\",\"2021-11-11\",\"2021-11-12\",\"2021-11-15\",\"2021-11-16\",\"2021-11-17\",\"2021-11-18\",\"2021-11-19\",\"2021-11-22\",\"2021-11-23\",\"2021-11-24\",\"2021-11-26\",\"2021-11-29\",\"2021-11-30\",\"2021-12-01\",\"2021-12-02\",\"2021-12-03\",\"2021-12-06\",\"2021-12-07\",\"2021-12-08\",\"2021-12-09\",\"2021-12-10\",\"2021-12-13\",\"2021-12-14\",\"2021-12-15\",\"2021-12-16\",\"2021-12-17\",\"2021-12-20\",\"2021-12-21\",\"2021-12-22\",\"2021-12-23\",\"2021-12-27\",\"2021-12-28\",\"2021-12-29\",\"2021-12-30\",\"2021-12-31\"],\"yaxis\":\"y2\",\"type\":\"candlestick\"}],                        {\"legend\":{\"bgcolor\":\"#F5F6F9\",\"font\":{\"color\":\"#4D5663\"}},\"margin\":{\"b\":30,\"l\":30,\"r\":30,\"t\":30},\"paper_bgcolor\":\"#F5F6F9\",\"plot_bgcolor\":\"#F5F6F9\",\"showlegend\":true,\"template\":{\"data\":{\"barpolar\":[{\"marker\":{\"line\":{\"color\":\"#E5ECF6\",\"width\":0.5},\"pattern\":{\"fillmode\":\"overlay\",\"size\":10,\"solidity\":0.2}},\"type\":\"barpolar\"}],\"bar\":[{\"error_x\":{\"color\":\"#2a3f5f\"},\"error_y\":{\"color\":\"#2a3f5f\"},\"marker\":{\"line\":{\"color\":\"#E5ECF6\",\"width\":0.5},\"pattern\":{\"fillmode\":\"overlay\",\"size\":10,\"solidity\":0.2}},\"type\":\"bar\"}],\"carpet\":[{\"aaxis\":{\"endlinecolor\":\"#2a3f5f\",\"gridcolor\":\"white\",\"linecolor\":\"white\",\"minorgridcolor\":\"white\",\"startlinecolor\":\"#2a3f5f\"},\"baxis\":{\"endlinecolor\":\"#2a3f5f\",\"gridcolor\":\"white\",\"linecolor\":\"white\",\"minorgridcolor\":\"white\",\"startlinecolor\":\"#2a3f5f\"},\"type\":\"carpet\"}],\"choropleth\":[{\"colorbar\":{\"outlinewidth\":0,\"ticks\":\"\"},\"type\":\"choropleth\"}],\"contourcarpet\":[{\"colorbar\":{\"outlinewidth\":0,\"ticks\":\"\"},\"type\":\"contourcarpet\"}],\"contour\":[{\"colorbar\":{\"outlinewidth\":0,\"ticks\":\"\"},\"colorscale\":[[0.0,\"#0d0887\"],[0.1111111111111111,\"#46039f\"],[0.2222222222222222,\"#7201a8\"],[0.3333333333333333,\"#9c179e\"],[0.4444444444444444,\"#bd3786\"],[0.5555555555555556,\"#d8576b\"],[0.6666666666666666,\"#ed7953\"],[0.7777777777777778,\"#fb9f3a\"],[0.8888888888888888,\"#fdca26\"],[1.0,\"#f0f921\"]],\"type\":\"contour\"}],\"heatmapgl\":[{\"colorbar\":{\"outlinewidth\":0,\"ticks\":\"\"},\"colorscale\":[[0.0,\"#0d0887\"],[0.1111111111111111,\"#46039f\"],[0.2222222222222222,\"#7201a8\"],[0.3333333333333333,\"#9c179e\"],[0.4444444444444444,\"#bd3786\"],[0.5555555555555556,\"#d8576b\"],[0.6666666666666666,\"#ed7953\"],[0.7777777777777778,\"#fb9f3a\"],[0.8888888888888888,\"#fdca26\"],[1.0,\"#f0f921\"]],\"type\":\"heatmapgl\"}],\"heatmap\":[{\"colorbar\":{\"outlinewidth\":0,\"ticks\":\"\"},\"colorscale\":[[0.0,\"#0d0887\"],[0.1111111111111111,\"#46039f\"],[0.2222222222222222,\"#7201a8\"],[0.3333333333333333,\"#9c179e\"],[0.4444444444444444,\"#bd3786\"],[0.5555555555555556,\"#d8576b\"],[0.6666666666666666,\"#ed7953\"],[0.7777777777777778,\"#fb9f3a\"],[0.8888888888888888,\"#fdca26\"],[1.0,\"#f0f921\"]],\"type\":\"heatmap\"}],\"histogram2dcontour\":[{\"colorbar\":{\"outlinewidth\":0,\"ticks\":\"\"},\"colorscale\":[[0.0,\"#0d0887\"],[0.1111111111111111,\"#46039f\"],[0.2222222222222222,\"#7201a8\"],[0.3333333333333333,\"#9c179e\"],[0.4444444444444444,\"#bd3786\"],[0.5555555555555556,\"#d8576b\"],[0.6666666666666666,\"#ed7953\"],[0.7777777777777778,\"#fb9f3a\"],[0.8888888888888888,\"#fdca26\"],[1.0,\"#f0f921\"]],\"type\":\"histogram2dcontour\"}],\"histogram2d\":[{\"colorbar\":{\"outlinewidth\":0,\"ticks\":\"\"},\"colorscale\":[[0.0,\"#0d0887\"],[0.1111111111111111,\"#46039f\"],[0.2222222222222222,\"#7201a8\"],[0.3333333333333333,\"#9c179e\"],[0.4444444444444444,\"#bd3786\"],[0.5555555555555556,\"#d8576b\"],[0.6666666666666666,\"#ed7953\"],[0.7777777777777778,\"#fb9f3a\"],[0.8888888888888888,\"#fdca26\"],[1.0,\"#f0f921\"]],\"type\":\"histogram2d\"}],\"histogram\":[{\"marker\":{\"pattern\":{\"fillmode\":\"overlay\",\"size\":10,\"solidity\":0.2}},\"type\":\"histogram\"}],\"mesh3d\":[{\"colorbar\":{\"outlinewidth\":0,\"ticks\":\"\"},\"type\":\"mesh3d\"}],\"parcoords\":[{\"line\":{\"colorbar\":{\"outlinewidth\":0,\"ticks\":\"\"}},\"type\":\"parcoords\"}],\"pie\":[{\"automargin\":true,\"type\":\"pie\"}],\"scatter3d\":[{\"line\":{\"colorbar\":{\"outlinewidth\":0,\"ticks\":\"\"}},\"marker\":{\"colorbar\":{\"outlinewidth\":0,\"ticks\":\"\"}},\"type\":\"scatter3d\"}],\"scattercarpet\":[{\"marker\":{\"colorbar\":{\"outlinewidth\":0,\"ticks\":\"\"}},\"type\":\"scattercarpet\"}],\"scattergeo\":[{\"marker\":{\"colorbar\":{\"outlinewidth\":0,\"ticks\":\"\"}},\"type\":\"scattergeo\"}],\"scattergl\":[{\"marker\":{\"colorbar\":{\"outlinewidth\":0,\"ticks\":\"\"}},\"type\":\"scattergl\"}],\"scattermapbox\":[{\"marker\":{\"colorbar\":{\"outlinewidth\":0,\"ticks\":\"\"}},\"type\":\"scattermapbox\"}],\"scatterpolargl\":[{\"marker\":{\"colorbar\":{\"outlinewidth\":0,\"ticks\":\"\"}},\"type\":\"scatterpolargl\"}],\"scatterpolar\":[{\"marker\":{\"colorbar\":{\"outlinewidth\":0,\"ticks\":\"\"}},\"type\":\"scatterpolar\"}],\"scatter\":[{\"fillpattern\":{\"fillmode\":\"overlay\",\"size\":10,\"solidity\":0.2},\"type\":\"scatter\"}],\"scatterternary\":[{\"marker\":{\"colorbar\":{\"outlinewidth\":0,\"ticks\":\"\"}},\"type\":\"scatterternary\"}],\"surface\":[{\"colorbar\":{\"outlinewidth\":0,\"ticks\":\"\"},\"colorscale\":[[0.0,\"#0d0887\"],[0.1111111111111111,\"#46039f\"],[0.2222222222222222,\"#7201a8\"],[0.3333333333333333,\"#9c179e\"],[0.4444444444444444,\"#bd3786\"],[0.5555555555555556,\"#d8576b\"],[0.6666666666666666,\"#ed7953\"],[0.7777777777777778,\"#fb9f3a\"],[0.8888888888888888,\"#fdca26\"],[1.0,\"#f0f921\"]],\"type\":\"surface\"}],\"table\":[{\"cells\":{\"fill\":{\"color\":\"#EBF0F8\"},\"line\":{\"color\":\"white\"}},\"header\":{\"fill\":{\"color\":\"#C8D4E3\"},\"line\":{\"color\":\"white\"}},\"type\":\"table\"}]},\"layout\":{\"annotationdefaults\":{\"arrowcolor\":\"#2a3f5f\",\"arrowhead\":0,\"arrowwidth\":1},\"autotypenumbers\":\"strict\",\"coloraxis\":{\"colorbar\":{\"outlinewidth\":0,\"ticks\":\"\"}},\"colorscale\":{\"diverging\":[[0,\"#8e0152\"],[0.1,\"#c51b7d\"],[0.2,\"#de77ae\"],[0.3,\"#f1b6da\"],[0.4,\"#fde0ef\"],[0.5,\"#f7f7f7\"],[0.6,\"#e6f5d0\"],[0.7,\"#b8e186\"],[0.8,\"#7fbc41\"],[0.9,\"#4d9221\"],[1,\"#276419\"]],\"sequential\":[[0.0,\"#0d0887\"],[0.1111111111111111,\"#46039f\"],[0.2222222222222222,\"#7201a8\"],[0.3333333333333333,\"#9c179e\"],[0.4444444444444444,\"#bd3786\"],[0.5555555555555556,\"#d8576b\"],[0.6666666666666666,\"#ed7953\"],[0.7777777777777778,\"#fb9f3a\"],[0.8888888888888888,\"#fdca26\"],[1.0,\"#f0f921\"]],\"sequentialminus\":[[0.0,\"#0d0887\"],[0.1111111111111111,\"#46039f\"],[0.2222222222222222,\"#7201a8\"],[0.3333333333333333,\"#9c179e\"],[0.4444444444444444,\"#bd3786\"],[0.5555555555555556,\"#d8576b\"],[0.6666666666666666,\"#ed7953\"],[0.7777777777777778,\"#fb9f3a\"],[0.8888888888888888,\"#fdca26\"],[1.0,\"#f0f921\"]]},\"colorway\":[\"#636efa\",\"#EF553B\",\"#00cc96\",\"#ab63fa\",\"#FFA15A\",\"#19d3f3\",\"#FF6692\",\"#B6E880\",\"#FF97FF\",\"#FECB52\"],\"font\":{\"color\":\"#2a3f5f\"},\"geo\":{\"bgcolor\":\"white\",\"lakecolor\":\"white\",\"landcolor\":\"#E5ECF6\",\"showlakes\":true,\"showland\":true,\"subunitcolor\":\"white\"},\"hoverlabel\":{\"align\":\"left\"},\"hovermode\":\"closest\",\"mapbox\":{\"style\":\"light\"},\"paper_bgcolor\":\"white\",\"plot_bgcolor\":\"#E5ECF6\",\"polar\":{\"angularaxis\":{\"gridcolor\":\"white\",\"linecolor\":\"white\",\"ticks\":\"\"},\"bgcolor\":\"#E5ECF6\",\"radialaxis\":{\"gridcolor\":\"white\",\"linecolor\":\"white\",\"ticks\":\"\"}},\"scene\":{\"xaxis\":{\"backgroundcolor\":\"#E5ECF6\",\"gridcolor\":\"white\",\"gridwidth\":2,\"linecolor\":\"white\",\"showbackground\":true,\"ticks\":\"\",\"zerolinecolor\":\"white\"},\"yaxis\":{\"backgroundcolor\":\"#E5ECF6\",\"gridcolor\":\"white\",\"gridwidth\":2,\"linecolor\":\"white\",\"showbackground\":true,\"ticks\":\"\",\"zerolinecolor\":\"white\"},\"zaxis\":{\"backgroundcolor\":\"#E5ECF6\",\"gridcolor\":\"white\",\"gridwidth\":2,\"linecolor\":\"white\",\"showbackground\":true,\"ticks\":\"\",\"zerolinecolor\":\"white\"}},\"shapedefaults\":{\"line\":{\"color\":\"#2a3f5f\"}},\"ternary\":{\"aaxis\":{\"gridcolor\":\"white\",\"linecolor\":\"white\",\"ticks\":\"\"},\"baxis\":{\"gridcolor\":\"white\",\"linecolor\":\"white\",\"ticks\":\"\"},\"bgcolor\":\"#E5ECF6\",\"caxis\":{\"gridcolor\":\"white\",\"linecolor\":\"white\",\"ticks\":\"\"}},\"title\":{\"x\":0.05},\"xaxis\":{\"automargin\":true,\"gridcolor\":\"white\",\"linecolor\":\"white\",\"ticks\":\"\",\"title\":{\"standoff\":15},\"zerolinecolor\":\"white\",\"zerolinewidth\":2},\"yaxis\":{\"automargin\":true,\"gridcolor\":\"white\",\"linecolor\":\"white\",\"ticks\":\"\",\"title\":{\"standoff\":15},\"zerolinecolor\":\"white\",\"zerolinewidth\":2}}},\"title\":{\"font\":{\"color\":\"#4D5663\"}},\"xaxis\":{\"anchor\":\"y2\",\"gridcolor\":\"#E1E5ED\",\"rangeselector\":{\"bgcolor\":\"rgba(150, 200, 250, 1)\",\"buttons\":[{\"count\":1,\"label\":\"1m\",\"step\":\"month\",\"stepmode\":\"backward\"},{\"count\":1,\"label\":\"1y\",\"step\":\"year\",\"stepmode\":\"backward\"}],\"font\":{\"size\":13},\"visible\":false,\"x\":0,\"y\":0.9},\"rangeslider\":{\"visible\":false},\"showgrid\":true,\"tickfont\":{\"color\":\"#4D5663\"},\"title\":{\"font\":{\"color\":\"#4D5663\"},\"text\":\"\"},\"zerolinecolor\":\"#E1E5ED\"},\"yaxis\":{\"gridcolor\":\"#E1E5ED\",\"showgrid\":true,\"showticklabels\":false,\"tickfont\":{\"color\":\"#4D5663\"},\"title\":{\"font\":{\"color\":\"#4D5663\"},\"text\":\"\"},\"zerolinecolor\":\"#E1E5ED\"},\"yaxis3\":{\"domain\":[0.0,0.15],\"gridcolor\":\"#E1E5ED\",\"showgrid\":true,\"tickfont\":{\"color\":\"#4D5663\"},\"title\":{\"font\":{\"color\":\"#4D5663\"},\"text\":\"\"},\"zerolinecolor\":\"#E1E5ED\"},\"yaxis2\":{\"domain\":[0.23,0.9],\"gridcolor\":\"#E1E5ED\",\"showgrid\":true,\"tickfont\":{\"color\":\"#4D5663\"},\"title\":{\"font\":{\"color\":\"#4D5663\"},\"text\":\"\"},\"zerolinecolor\":\"#E1E5ED\"}},                        {\"showLink\": true, \"linkText\": \"Export to plot.ly\", \"plotlyServerURL\": \"https://plot.ly\", \"responsive\": true}                    ).then(function(){\n",
       "                            \n",
       "var gd = document.getElementById('8a4175be-efcd-4b6d-b63b-9a9f2d8fef57');\n",
       "var x = new MutationObserver(function (mutations, observer) {{\n",
       "        var display = window.getComputedStyle(gd).display;\n",
       "        if (!display || display === 'none') {{\n",
       "            console.log([gd, 'removed!']);\n",
       "            Plotly.purge(gd);\n",
       "            observer.disconnect();\n",
       "        }}\n",
       "}});\n",
       "\n",
       "// Listen for the removal of the full notebook cells\n",
       "var notebookContainer = gd.closest('#notebook-container');\n",
       "if (notebookContainer) {{\n",
       "    x.observe(notebookContainer, {childList: true});\n",
       "}}\n",
       "\n",
       "// Listen for the clearing of the current output cell\n",
       "var outputEl = gd.closest('.output');\n",
       "if (outputEl) {{\n",
       "    x.observe(outputEl, {childList: true});\n",
       "}}\n",
       "\n",
       "                        })                };                });            </script>        </div>"
      ]
     },
     "metadata": {},
     "output_type": "display_data"
    }
   ],
   "source": [
    "qf.iplot()"
   ]
  },
  {
   "cell_type": "code",
   "execution_count": null,
   "id": "6b0ae925",
   "metadata": {
    "papermill": {
     "duration": 0.01602,
     "end_time": "2022-07-14T05:31:09.865760",
     "exception": false,
     "start_time": "2022-07-14T05:31:09.849740",
     "status": "completed"
    },
    "tags": []
   },
   "outputs": [],
   "source": []
  }
 ],
 "metadata": {
  "kernelspec": {
   "display_name": "Python 3",
   "language": "python",
   "name": "python3"
  },
  "language_info": {
   "codemirror_mode": {
    "name": "ipython",
    "version": 3
   },
   "file_extension": ".py",
   "mimetype": "text/x-python",
   "name": "python",
   "nbconvert_exporter": "python",
   "pygments_lexer": "ipython3",
   "version": "3.7.12"
  },
  "papermill": {
   "default_parameters": {},
   "duration": 16.85402,
   "end_time": "2022-07-14T05:31:10.809740",
   "environment_variables": {},
   "exception": null,
   "input_path": "__notebook__.ipynb",
   "output_path": "__notebook__.ipynb",
   "parameters": {},
   "start_time": "2022-07-14T05:30:53.955720",
   "version": "2.3.4"
  }
 },
 "nbformat": 4,
 "nbformat_minor": 5
}
